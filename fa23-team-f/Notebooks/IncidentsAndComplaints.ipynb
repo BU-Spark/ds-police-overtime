{
 "cells": [
  {
   "cell_type": "markdown",
   "metadata": {},
   "source": [
    "## Using data to fill in narratives around waste & misconduct by individual BPD officers "
   ]
  },
  {
   "cell_type": "markdown",
   "metadata": {},
   "source": [
    "Looking at Complaints and Watchlist data"
   ]
  },
  {
   "cell_type": "code",
   "execution_count": 1,
   "metadata": {},
   "outputs": [],
   "source": [
    "import csv\n",
    "import pandas as pd\n",
    "import numpy as np\n",
    "import matplotlib.pyplot as plt\n",
    "\n",
    "complaints = pd.read_csv('../data/Watchlists and Complaints/complaints.csv')\n",
    "complaints = complaints[1:]\n",
    "watchlist = pd.read_csv('../data/Watchlists and Complaints/officerwatchlist.csv')"
   ]
  },
  {
   "cell_type": "code",
   "execution_count": 2,
   "metadata": {},
   "outputs": [
    {
     "name": "stdout",
     "output_type": "stream",
     "text": [
      "2067\n",
      "136\n"
     ]
    }
   ],
   "source": [
    "print(len(complaints['HCM name'].unique()))\n",
    "print(len(watchlist))\n"
   ]
  },
  {
   "cell_type": "markdown",
   "metadata": {},
   "source": [
    "# There are 2,067 officers with filed complaints, and 136 officers on the BPD watchlist."
   ]
  },
  {
   "cell_type": "markdown",
   "metadata": {},
   "source": [
    "# # of officers that are placed on admin leave following a complaint"
   ]
  },
  {
   "cell_type": "code",
   "execution_count": 3,
   "metadata": {},
   "outputs": [
    {
     "data": {
      "image/png": "[encoded data removed]",
      "text/plain": [
       "<Figure size 432x288 with 1 Axes>"
      ]
     },
     "metadata": {
      "needs_background": "light"
     },
     "output_type": "display_data"
    }
   ],
   "source": [
    "adminleaves = complaints.groupby('Admin Leave Y/N').size()\n",
    "adminleaves.plot(kind='bar', title='Admin Leave Y/N')\n",
    "plt.show()\n"
   ]
  },
  {
   "cell_type": "markdown",
   "metadata": {},
   "source": [
    "# Officers that are on the watchlist for Overtime related investigation"
   ]
  },
  {
   "cell_type": "code",
   "execution_count": 4,
   "metadata": {},
   "outputs": [
    {
     "data": {
      "image/png": "[encoded data removed]",
      "text/plain": [
       "<Figure size 432x288 with 1 Axes>"
      ]
     },
     "metadata": {
      "needs_background": "light"
     },
     "output_type": "display_data"
    }
   ],
   "source": [
    "def isovertimerelated(text):\n",
    "    if type(text) != str:\n",
    "        return 0\n",
    "    if 'overtime' in text.lower():\n",
    "        return 1\n",
    "    else:\n",
    "        return 0\n",
    "\n",
    "watchlist['isovertimerelated'] = watchlist.apply(lambda row : isovertimerelated(row['INFORMATION REGARDING LEAD ENTRY']), axis =1)\n",
    "\n",
    "overtimerelated = watchlist.groupby('isovertimerelated').size()\n",
    "overtimerelated.plot(kind='bar', title='Overtime-Related Offenses')\n",
    "plt.xlabel(\"On watchlist for overtime related reasons\")\n",
    "plt.ylabel(\"# of Officers on Watchlist\")\n",
    "plt.show()\n"
   ]
  },
  {
   "cell_type": "markdown",
   "metadata": {},
   "source": [
    "# # of unique offences that an officer could be put on the watchlist: 67"
   ]
  },
  {
   "cell_type": "code",
   "execution_count": 5,
   "metadata": {},
   "outputs": [
    {
     "name": "stdout",
     "output_type": "stream",
     "text": [
      "67\n"
     ]
    }
   ],
   "source": [
    "print(len(watchlist['INFORMATION REGARDING LEAD ENTRY'].unique()))\n"
   ]
  }
 ],
 "metadata": {
  "kernelspec": {
   "display_name": "Python 3",
   "language": "python",
   "name": "python3"
  },
  "language_info": {
   "codemirror_mode": {
    "name": "ipython",
    "version": 3
   },
   "file_extension": ".py",
   "mimetype": "text/x-python",
   "name": "python",
   "nbconvert_exporter": "python",
   "pygments_lexer": "ipython3",
   "version": "3.9.12"
  }
 },
 "nbformat": 4,
 "nbformat_minor": 2
}
