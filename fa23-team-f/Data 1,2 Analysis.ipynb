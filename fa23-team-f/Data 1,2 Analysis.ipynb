{
 "cells": [
  {
   "cell_type": "code",
   "execution_count": 28,
   "id": "daad315b",
   "metadata": {},
   "outputs": [],
   "source": [
    "import numpy as np\n",
    "import pandas as pd\n",
    "import matplotlib.pyplot as plt"
   ]
  },
  {
   "cell_type": "code",
   "execution_count": 40,
   "id": "9c97f0dc",
   "metadata": {},
   "outputs": [],
   "source": [
    "# Import Data\n",
    "overtime21 = pd.read_csv('./data/2021_Details.xlsx - _2021_Detals.csv')\n",
    "\n",
    "overtime_court21 = pd.read_excel('./data/Court_Overtime_2021_-_2022_ytd.xlsx')\n",
    "\n",
    "overtime_police_record = pd.read_excel('./data/Police_Record_Request_Jan_2019_to_present.xlsx')\n",
    "\n",
    "earnings21 = pd.read_csv('./data/finalconsolidatedcy22earnings_feb2023.xlsx-sheet1.csv')"
   ]
  },
  {
   "cell_type": "markdown",
   "id": "672a7ed6",
   "metadata": {},
   "source": [
    "### Overtime and Overtime_court can be merged by Emp.ID and ID\n",
    "\n",
    "### But earnings data has no ID so matching by name seems like the best way\n",
    "\n",
    "### I think Rank in overtime data has close relationship with Title."
   ]
  },
  {
   "cell_type": "code",
   "execution_count": 4,
   "id": "bb4eaf7c",
   "metadata": {},
   "outputs": [
    {
     "data": {
      "text/html": [
       "<div>\n",
       "<style scoped>\n",
       "    .dataframe tbody tr th:only-of-type {\n",
       "        vertical-align: middle;\n",
       "    }\n",
       "\n",
       "    .dataframe tbody tr th {\n",
       "        vertical-align: top;\n",
       "    }\n",
       "\n",
       "    .dataframe thead th {\n",
       "        text-align: right;\n",
       "    }\n",
       "</style>\n",
       "<table border=\"1\" class=\"dataframe\">\n",
       "  <thead>\n",
       "    <tr style=\"text-align: right;\">\n",
       "      <th></th>\n",
       "      <th>Tracking_No</th>\n",
       "      <th>Emp. ID</th>\n",
       "      <th>Employee</th>\n",
       "      <th>Rank</th>\n",
       "      <th>Street</th>\n",
       "      <th>xStreet</th>\n",
       "      <th>Detail\\nDate</th>\n",
       "      <th>Start\\nTime</th>\n",
       "      <th>End \\nTime</th>\n",
       "      <th>Hours\\nWorked</th>\n",
       "      <th>Hours\\nPaid</th>\n",
       "      <th>Type</th>\n",
       "      <th>Customer No.</th>\n",
       "      <th>Customer</th>\n",
       "      <th>Customer Address</th>\n",
       "      <th>Customer Address 1</th>\n",
       "      <th>Customer Address 3</th>\n",
       "      <th>Customer_City</th>\n",
       "      <th>Customer_State</th>\n",
       "      <th>Customer_zip</th>\n",
       "    </tr>\n",
       "  </thead>\n",
       "  <tbody>\n",
       "    <tr>\n",
       "      <th>0</th>\n",
       "      <td>2343189</td>\n",
       "      <td>140298</td>\n",
       "      <td>GARNEY,BRIAN</td>\n",
       "      <td>9</td>\n",
       "      <td>NEW CHARDON ST</td>\n",
       "      <td>NaN</td>\n",
       "      <td>1/2/2021</td>\n",
       "      <td>700</td>\n",
       "      <td>800</td>\n",
       "      <td>100</td>\n",
       "      <td>4</td>\n",
       "      <td>C</td>\n",
       "      <td>2838</td>\n",
       "      <td>MORIARTY, JOHN &amp; ASSOC</td>\n",
       "      <td>3 CHURCH STREET</td>\n",
       "      <td>NaN</td>\n",
       "      <td>NaN</td>\n",
       "      <td>WINCHESTER</td>\n",
       "      <td>MA</td>\n",
       "      <td>01890</td>\n",
       "    </tr>\n",
       "    <tr>\n",
       "      <th>1</th>\n",
       "      <td>2343190</td>\n",
       "      <td>10264</td>\n",
       "      <td>GAVA,ROY</td>\n",
       "      <td>9</td>\n",
       "      <td>NEW CHARDON ST</td>\n",
       "      <td>NaN</td>\n",
       "      <td>1/2/2021</td>\n",
       "      <td>700</td>\n",
       "      <td>800</td>\n",
       "      <td>100</td>\n",
       "      <td>4</td>\n",
       "      <td>C</td>\n",
       "      <td>2838</td>\n",
       "      <td>MORIARTY, JOHN &amp; ASSOC</td>\n",
       "      <td>3 CHURCH STREET</td>\n",
       "      <td>NaN</td>\n",
       "      <td>NaN</td>\n",
       "      <td>WINCHESTER</td>\n",
       "      <td>MA</td>\n",
       "      <td>01890</td>\n",
       "    </tr>\n",
       "    <tr>\n",
       "      <th>2</th>\n",
       "      <td>2338683</td>\n",
       "      <td>9707</td>\n",
       "      <td>BOYLE,FREDERICK J</td>\n",
       "      <td>9</td>\n",
       "      <td>LOMASNEY WY</td>\n",
       "      <td>NaN</td>\n",
       "      <td>1/2/2021</td>\n",
       "      <td>700</td>\n",
       "      <td>1200</td>\n",
       "      <td>500</td>\n",
       "      <td>8</td>\n",
       "      <td>C</td>\n",
       "      <td>2602</td>\n",
       "      <td>TISHMAN CONSTRUCTION CORP</td>\n",
       "      <td>1 FEDERAL ST FL 8</td>\n",
       "      <td>NaN</td>\n",
       "      <td>NaN</td>\n",
       "      <td>BOSTON</td>\n",
       "      <td>MA</td>\n",
       "      <td>02110</td>\n",
       "    </tr>\n",
       "    <tr>\n",
       "      <th>3</th>\n",
       "      <td>2340857</td>\n",
       "      <td>116235</td>\n",
       "      <td>JOSEPH,GREGORY</td>\n",
       "      <td>9</td>\n",
       "      <td>LONGWOOD AV</td>\n",
       "      <td>NaN</td>\n",
       "      <td>1/1/2021</td>\n",
       "      <td>800</td>\n",
       "      <td>1530</td>\n",
       "      <td>730</td>\n",
       "      <td>8</td>\n",
       "      <td>S</td>\n",
       "      <td>151</td>\n",
       "      <td>CHILDREN'S HOSPITAL BOSTON</td>\n",
       "      <td>300 LONGWOOD AVENUE</td>\n",
       "      <td>ATTN:BOB RYAN,SECURITY DEPT</td>\n",
       "      <td>NaN</td>\n",
       "      <td>BOSTON</td>\n",
       "      <td>MA</td>\n",
       "      <td>02115</td>\n",
       "    </tr>\n",
       "    <tr>\n",
       "      <th>4</th>\n",
       "      <td>2343951</td>\n",
       "      <td>12253</td>\n",
       "      <td>BUTLER,BOBBIE</td>\n",
       "      <td>9</td>\n",
       "      <td>BLUE HILL AV</td>\n",
       "      <td>NaN</td>\n",
       "      <td>1/1/2021</td>\n",
       "      <td>900</td>\n",
       "      <td>1500</td>\n",
       "      <td>600</td>\n",
       "      <td>8</td>\n",
       "      <td>C</td>\n",
       "      <td>396</td>\n",
       "      <td>NATIONAL GRID</td>\n",
       "      <td>40 SYLVAN ROAD</td>\n",
       "      <td>ATTN: MARY MULRONEY</td>\n",
       "      <td>NaN</td>\n",
       "      <td>WALTHAM</td>\n",
       "      <td>MA</td>\n",
       "      <td>02451</td>\n",
       "    </tr>\n",
       "  </tbody>\n",
       "</table>\n",
       "</div>"
      ],
      "text/plain": [
       "   Tracking_No  Emp. ID           Employee  Rank          Street xStreet  \\\n",
       "0      2343189   140298       GARNEY,BRIAN     9  NEW CHARDON ST     NaN   \n",
       "1      2343190    10264           GAVA,ROY     9  NEW CHARDON ST     NaN   \n",
       "2      2338683     9707  BOYLE,FREDERICK J     9     LOMASNEY WY     NaN   \n",
       "3      2340857   116235     JOSEPH,GREGORY     9     LONGWOOD AV     NaN   \n",
       "4      2343951    12253      BUTLER,BOBBIE     9    BLUE HILL AV     NaN   \n",
       "\n",
       "  Detail\\nDate  Start\\nTime  End \\nTime  Hours\\nWorked  Hours\\nPaid Type  \\\n",
       "0     1/2/2021          700         800            100            4    C   \n",
       "1     1/2/2021          700         800            100            4    C   \n",
       "2     1/2/2021          700        1200            500            8    C   \n",
       "3     1/1/2021          800        1530            730            8    S   \n",
       "4     1/1/2021          900        1500            600            8    C   \n",
       "\n",
       "   Customer No.                    Customer     Customer Address  \\\n",
       "0          2838      MORIARTY, JOHN & ASSOC      3 CHURCH STREET   \n",
       "1          2838      MORIARTY, JOHN & ASSOC      3 CHURCH STREET   \n",
       "2          2602   TISHMAN CONSTRUCTION CORP    1 FEDERAL ST FL 8   \n",
       "3           151  CHILDREN'S HOSPITAL BOSTON  300 LONGWOOD AVENUE   \n",
       "4           396               NATIONAL GRID       40 SYLVAN ROAD   \n",
       "\n",
       "            Customer Address 1 Customer Address 3 Customer_City  \\\n",
       "0                          NaN                NaN    WINCHESTER   \n",
       "1                          NaN                NaN    WINCHESTER   \n",
       "2                          NaN                NaN        BOSTON   \n",
       "3  ATTN:BOB RYAN,SECURITY DEPT                NaN        BOSTON   \n",
       "4          ATTN: MARY MULRONEY                NaN       WALTHAM   \n",
       "\n",
       "  Customer_State Customer_zip  \n",
       "0             MA        01890  \n",
       "1             MA        01890  \n",
       "2             MA        02110  \n",
       "3             MA        02115  \n",
       "4             MA        02451  "
      ]
     },
     "execution_count": 4,
     "metadata": {},
     "output_type": "execute_result"
    }
   ],
   "source": [
    "overtime21.head()"
   ]
  },
  {
   "cell_type": "code",
   "execution_count": 5,
   "id": "74cd448e",
   "metadata": {
    "scrolled": true
   },
   "outputs": [
    {
     "data": {
      "text/html": [
       "<div>\n",
       "<style scoped>\n",
       "    .dataframe tbody tr th:only-of-type {\n",
       "        vertical-align: middle;\n",
       "    }\n",
       "\n",
       "    .dataframe tbody tr th {\n",
       "        vertical-align: top;\n",
       "    }\n",
       "\n",
       "    .dataframe thead th {\n",
       "        text-align: right;\n",
       "    }\n",
       "</style>\n",
       "<table border=\"1\" class=\"dataframe\">\n",
       "  <thead>\n",
       "    <tr style=\"text-align: right;\">\n",
       "      <th></th>\n",
       "      <th>ID</th>\n",
       "      <th>NAME</th>\n",
       "      <th>RANK</th>\n",
       "      <th>ASSIGNED_DESC</th>\n",
       "      <th>CHARGED_DESC</th>\n",
       "      <th>OTDATE</th>\n",
       "      <th>OTCODE</th>\n",
       "      <th>DESCRIPTION</th>\n",
       "      <th>STARTTIME</th>\n",
       "      <th>ENDTIME</th>\n",
       "      <th>WRKDHRS</th>\n",
       "      <th>OTHOURS</th>\n",
       "    </tr>\n",
       "  </thead>\n",
       "  <tbody>\n",
       "    <tr>\n",
       "      <th>0</th>\n",
       "      <td>153088</td>\n",
       "      <td>Chen,Steven</td>\n",
       "      <td>Ptl</td>\n",
       "      <td>DISTRICT 01</td>\n",
       "      <td>DISTRICT 01</td>\n",
       "      <td>2021-01-05</td>\n",
       "      <td>281.0</td>\n",
       "      <td>COURT:CLERK MAG. HRG</td>\n",
       "      <td>900</td>\n",
       "      <td>930</td>\n",
       "      <td>0.50</td>\n",
       "      <td>4.0</td>\n",
       "    </tr>\n",
       "    <tr>\n",
       "      <th>1</th>\n",
       "      <td>53603</td>\n",
       "      <td>Gero,Jarrod A</td>\n",
       "      <td>Det</td>\n",
       "      <td>B-2   DETECTIVES</td>\n",
       "      <td>B-2   DETECTIVES</td>\n",
       "      <td>2021-01-06</td>\n",
       "      <td>283.0</td>\n",
       "      <td>COURT:MOTIONS HRG.</td>\n",
       "      <td>1130</td>\n",
       "      <td>1230</td>\n",
       "      <td>1.00</td>\n",
       "      <td>4.0</td>\n",
       "    </tr>\n",
       "    <tr>\n",
       "      <th>2</th>\n",
       "      <td>11716</td>\n",
       "      <td>McCarthy,Peter L</td>\n",
       "      <td>Det</td>\n",
       "      <td>B-3   DETECTIVES</td>\n",
       "      <td>B-3   DETECTIVES</td>\n",
       "      <td>2021-01-04</td>\n",
       "      <td>286.0</td>\n",
       "      <td>COURT:CASE PREP.</td>\n",
       "      <td>1600</td>\n",
       "      <td>1730</td>\n",
       "      <td>1.50</td>\n",
       "      <td>4.0</td>\n",
       "    </tr>\n",
       "    <tr>\n",
       "      <th>3</th>\n",
       "      <td>157666</td>\n",
       "      <td>Mejia,Karen Y</td>\n",
       "      <td>Ptl</td>\n",
       "      <td>DISTRICT 01</td>\n",
       "      <td>DISTRICT 01</td>\n",
       "      <td>2021-01-04</td>\n",
       "      <td>281.0</td>\n",
       "      <td>COURT:CLERK MAG. HRG</td>\n",
       "      <td>900</td>\n",
       "      <td>930</td>\n",
       "      <td>0.50</td>\n",
       "      <td>4.0</td>\n",
       "    </tr>\n",
       "    <tr>\n",
       "      <th>4</th>\n",
       "      <td>12045</td>\n",
       "      <td>Merricks,Kirk D.</td>\n",
       "      <td>Ptl</td>\n",
       "      <td>DISTRICT 01</td>\n",
       "      <td>DISTRICT 01</td>\n",
       "      <td>2021-01-05</td>\n",
       "      <td>281.0</td>\n",
       "      <td>COURT:CLERK MAG. HRG</td>\n",
       "      <td>900</td>\n",
       "      <td>915</td>\n",
       "      <td>0.25</td>\n",
       "      <td>4.0</td>\n",
       "    </tr>\n",
       "  </tbody>\n",
       "</table>\n",
       "</div>"
      ],
      "text/plain": [
       "       ID              NAME RANK     ASSIGNED_DESC      CHARGED_DESC  \\\n",
       "0  153088       Chen,Steven  Ptl       DISTRICT 01       DISTRICT 01   \n",
       "1   53603     Gero,Jarrod A  Det  B-2   DETECTIVES  B-2   DETECTIVES   \n",
       "2   11716  McCarthy,Peter L  Det  B-3   DETECTIVES  B-3   DETECTIVES   \n",
       "3  157666     Mejia,Karen Y  Ptl       DISTRICT 01       DISTRICT 01   \n",
       "4   12045  Merricks,Kirk D.  Ptl       DISTRICT 01       DISTRICT 01   \n",
       "\n",
       "      OTDATE  OTCODE           DESCRIPTION  STARTTIME  ENDTIME  WRKDHRS  \\\n",
       "0 2021-01-05   281.0  COURT:CLERK MAG. HRG        900      930     0.50   \n",
       "1 2021-01-06   283.0    COURT:MOTIONS HRG.       1130     1230     1.00   \n",
       "2 2021-01-04   286.0      COURT:CASE PREP.       1600     1730     1.50   \n",
       "3 2021-01-04   281.0  COURT:CLERK MAG. HRG        900      930     0.50   \n",
       "4 2021-01-05   281.0  COURT:CLERK MAG. HRG        900      915     0.25   \n",
       "\n",
       "   OTHOURS  \n",
       "0      4.0  \n",
       "1      4.0  \n",
       "2      4.0  \n",
       "3      4.0  \n",
       "4      4.0  "
      ]
     },
     "execution_count": 5,
     "metadata": {},
     "output_type": "execute_result"
    }
   ],
   "source": [
    "overtime_court21.head()"
   ]
  },
  {
   "cell_type": "code",
   "execution_count": 6,
   "id": "8ae50dc6",
   "metadata": {},
   "outputs": [
    {
     "data": {
      "text/html": [
       "<div>\n",
       "<style scoped>\n",
       "    .dataframe tbody tr th:only-of-type {\n",
       "        vertical-align: middle;\n",
       "    }\n",
       "\n",
       "    .dataframe tbody tr th {\n",
       "        vertical-align: top;\n",
       "    }\n",
       "\n",
       "    .dataframe thead th {\n",
       "        text-align: right;\n",
       "    }\n",
       "</style>\n",
       "<table border=\"1\" class=\"dataframe\">\n",
       "  <thead>\n",
       "    <tr style=\"text-align: right;\">\n",
       "      <th></th>\n",
       "      <th>IDNO6</th>\n",
       "      <th>NAME</th>\n",
       "      <th>RANK</th>\n",
       "      <th>ASSIGNED_DESC</th>\n",
       "      <th>CHARGED_DESC</th>\n",
       "      <th>OTDATE</th>\n",
       "      <th>OTCODE</th>\n",
       "      <th>DESCRIPTION</th>\n",
       "      <th>STARTTIME</th>\n",
       "      <th>ENDTIME</th>\n",
       "      <th>WRKDHRS</th>\n",
       "      <th>OTHOURS</th>\n",
       "    </tr>\n",
       "  </thead>\n",
       "  <tbody>\n",
       "    <tr>\n",
       "      <th>0</th>\n",
       "      <td>10525</td>\n",
       "      <td>Davin,John J</td>\n",
       "      <td>Capt</td>\n",
       "      <td>SPECIAL OPERATIONS DIVISION</td>\n",
       "      <td>TACTICAL OPERATIONS</td>\n",
       "      <td>2019-01-01</td>\n",
       "      <td>271</td>\n",
       "      <td>ENTRY TEAM</td>\n",
       "      <td>130</td>\n",
       "      <td>600</td>\n",
       "      <td>4.5</td>\n",
       "      <td>4.5</td>\n",
       "    </tr>\n",
       "    <tr>\n",
       "      <th>1</th>\n",
       "      <td>10273</td>\n",
       "      <td>Hosein,Haseeb</td>\n",
       "      <td>Capt</td>\n",
       "      <td>DISTRICT 03</td>\n",
       "      <td>DISTRICT 03</td>\n",
       "      <td>2019-01-01</td>\n",
       "      <td>212</td>\n",
       "      <td>CRIME SCENE INVEST.</td>\n",
       "      <td>315</td>\n",
       "      <td>515</td>\n",
       "      <td>2.0</td>\n",
       "      <td>4.0</td>\n",
       "    </tr>\n",
       "    <tr>\n",
       "      <th>2</th>\n",
       "      <td>8368</td>\n",
       "      <td>Terenzi,Phillip</td>\n",
       "      <td>Capt</td>\n",
       "      <td>OPERATIONS DIVISION</td>\n",
       "      <td>OPERATIONS DIVISION</td>\n",
       "      <td>2019-01-01</td>\n",
       "      <td>325</td>\n",
       "      <td>COMPLETE TOUR ASSIGN</td>\n",
       "      <td>1600</td>\n",
       "      <td>1900</td>\n",
       "      <td>3.0</td>\n",
       "      <td>3.0</td>\n",
       "    </tr>\n",
       "    <tr>\n",
       "      <th>3</th>\n",
       "      <td>115669</td>\n",
       "      <td>Auclair,Richard</td>\n",
       "      <td>Civili</td>\n",
       "      <td>LATENT PRINTS UNIT</td>\n",
       "      <td>LATENT PRINTS UNIT</td>\n",
       "      <td>2019-01-01</td>\n",
       "      <td>261</td>\n",
       "      <td>ADD. WORK ASSIGNED</td>\n",
       "      <td>1700</td>\n",
       "      <td>2000</td>\n",
       "      <td>3.0</td>\n",
       "      <td>3.0</td>\n",
       "    </tr>\n",
       "    <tr>\n",
       "      <th>4</th>\n",
       "      <td>113177</td>\n",
       "      <td>Cardona,Veronica</td>\n",
       "      <td>Civili</td>\n",
       "      <td>OPERATIONS DIVISION</td>\n",
       "      <td>OPERATIONS DIVISION</td>\n",
       "      <td>2019-01-01</td>\n",
       "      <td>261</td>\n",
       "      <td>ADD. WORK ASSIGNED</td>\n",
       "      <td>0</td>\n",
       "      <td>400</td>\n",
       "      <td>4.0</td>\n",
       "      <td>4.0</td>\n",
       "    </tr>\n",
       "    <tr>\n",
       "      <th>5</th>\n",
       "      <td>80561</td>\n",
       "      <td>Collins,Dianna</td>\n",
       "      <td>Civili</td>\n",
       "      <td>OPERATIONS DIVISION</td>\n",
       "      <td>OPERATIONS DIVISION</td>\n",
       "      <td>2019-01-01</td>\n",
       "      <td>111</td>\n",
       "      <td>SICK LEAVE</td>\n",
       "      <td>800</td>\n",
       "      <td>1600</td>\n",
       "      <td>8.0</td>\n",
       "      <td>8.0</td>\n",
       "    </tr>\n",
       "    <tr>\n",
       "      <th>6</th>\n",
       "      <td>90489</td>\n",
       "      <td>Correia,Sylvia L</td>\n",
       "      <td>Civili</td>\n",
       "      <td>OPERATIONS DIVISION</td>\n",
       "      <td>OPERATIONS DIVISION</td>\n",
       "      <td>2019-01-01</td>\n",
       "      <td>112</td>\n",
       "      <td>VACATION LEAVE</td>\n",
       "      <td>1600</td>\n",
       "      <td>0</td>\n",
       "      <td>8.0</td>\n",
       "      <td>8.0</td>\n",
       "    </tr>\n",
       "    <tr>\n",
       "      <th>7</th>\n",
       "      <td>143367</td>\n",
       "      <td>Fredericks,Jennifer</td>\n",
       "      <td>Civili</td>\n",
       "      <td>BRIC</td>\n",
       "      <td>INTELLIGENCE GROUP</td>\n",
       "      <td>2019-01-01</td>\n",
       "      <td>261</td>\n",
       "      <td>ADD. WORK ASSIGNED</td>\n",
       "      <td>900</td>\n",
       "      <td>1700</td>\n",
       "      <td>8.0</td>\n",
       "      <td>8.0</td>\n",
       "    </tr>\n",
       "    <tr>\n",
       "      <th>8</th>\n",
       "      <td>99560</td>\n",
       "      <td>Garcia,Jazdiannet</td>\n",
       "      <td>Civili</td>\n",
       "      <td>OPERATIONS DIVISION</td>\n",
       "      <td>OPERATIONS DIVISION</td>\n",
       "      <td>2019-01-01</td>\n",
       "      <td>261</td>\n",
       "      <td>ADD. WORK ASSIGNED</td>\n",
       "      <td>0</td>\n",
       "      <td>400</td>\n",
       "      <td>4.0</td>\n",
       "      <td>4.0</td>\n",
       "    </tr>\n",
       "    <tr>\n",
       "      <th>9</th>\n",
       "      <td>75005</td>\n",
       "      <td>Green,Derek</td>\n",
       "      <td>Civili</td>\n",
       "      <td>BUILDING SECURITY UNIT</td>\n",
       "      <td>OPERATIONS DIVISION</td>\n",
       "      <td>2019-01-01</td>\n",
       "      <td>261</td>\n",
       "      <td>ADD. WORK ASSIGNED</td>\n",
       "      <td>600</td>\n",
       "      <td>1000</td>\n",
       "      <td>4.0</td>\n",
       "      <td>4.0</td>\n",
       "    </tr>\n",
       "  </tbody>\n",
       "</table>\n",
       "</div>"
      ],
      "text/plain": [
       "    IDNO6                 NAME    RANK                ASSIGNED_DESC  \\\n",
       "0   10525         Davin,John J    Capt  SPECIAL OPERATIONS DIVISION   \n",
       "1   10273        Hosein,Haseeb    Capt                  DISTRICT 03   \n",
       "2    8368      Terenzi,Phillip    Capt          OPERATIONS DIVISION   \n",
       "3  115669      Auclair,Richard  Civili           LATENT PRINTS UNIT   \n",
       "4  113177     Cardona,Veronica  Civili          OPERATIONS DIVISION   \n",
       "5   80561       Collins,Dianna  Civili          OPERATIONS DIVISION   \n",
       "6   90489     Correia,Sylvia L  Civili          OPERATIONS DIVISION   \n",
       "7  143367  Fredericks,Jennifer  Civili                        BRIC    \n",
       "8   99560    Garcia,Jazdiannet  Civili          OPERATIONS DIVISION   \n",
       "9   75005          Green,Derek  Civili       BUILDING SECURITY UNIT   \n",
       "\n",
       "          CHARGED_DESC     OTDATE  OTCODE           DESCRIPTION  STARTTIME  \\\n",
       "0  TACTICAL OPERATIONS 2019-01-01     271            ENTRY TEAM        130   \n",
       "1          DISTRICT 03 2019-01-01     212   CRIME SCENE INVEST.        315   \n",
       "2  OPERATIONS DIVISION 2019-01-01     325  COMPLETE TOUR ASSIGN       1600   \n",
       "3   LATENT PRINTS UNIT 2019-01-01     261    ADD. WORK ASSIGNED       1700   \n",
       "4  OPERATIONS DIVISION 2019-01-01     261    ADD. WORK ASSIGNED          0   \n",
       "5  OPERATIONS DIVISION 2019-01-01     111            SICK LEAVE        800   \n",
       "6  OPERATIONS DIVISION 2019-01-01     112        VACATION LEAVE       1600   \n",
       "7   INTELLIGENCE GROUP 2019-01-01     261    ADD. WORK ASSIGNED        900   \n",
       "8  OPERATIONS DIVISION 2019-01-01     261    ADD. WORK ASSIGNED          0   \n",
       "9  OPERATIONS DIVISION 2019-01-01     261    ADD. WORK ASSIGNED        600   \n",
       "\n",
       "   ENDTIME  WRKDHRS  OTHOURS  \n",
       "0      600      4.5      4.5  \n",
       "1      515      2.0      4.0  \n",
       "2     1900      3.0      3.0  \n",
       "3     2000      3.0      3.0  \n",
       "4      400      4.0      4.0  \n",
       "5     1600      8.0      8.0  \n",
       "6        0      8.0      8.0  \n",
       "7     1700      8.0      8.0  \n",
       "8      400      4.0      4.0  \n",
       "9     1000      4.0      4.0  "
      ]
     },
     "execution_count": 6,
     "metadata": {},
     "output_type": "execute_result"
    }
   ],
   "source": [
    "overtime_police_record.head(10)"
   ]
  },
  {
   "cell_type": "code",
   "execution_count": 7,
   "id": "88ea803b",
   "metadata": {},
   "outputs": [
    {
     "data": {
      "text/html": [
       "<div>\n",
       "<style scoped>\n",
       "    .dataframe tbody tr th:only-of-type {\n",
       "        vertical-align: middle;\n",
       "    }\n",
       "\n",
       "    .dataframe tbody tr th {\n",
       "        vertical-align: top;\n",
       "    }\n",
       "\n",
       "    .dataframe thead th {\n",
       "        text-align: right;\n",
       "    }\n",
       "</style>\n",
       "<table border=\"1\" class=\"dataframe\">\n",
       "  <thead>\n",
       "    <tr style=\"text-align: right;\">\n",
       "      <th></th>\n",
       "      <th>NAME</th>\n",
       "      <th>DEPARTMENT_NAME</th>\n",
       "      <th>TITLE</th>\n",
       "      <th>REGULAR</th>\n",
       "      <th>RETRO</th>\n",
       "      <th>OTHER</th>\n",
       "      <th>OVERTIME</th>\n",
       "      <th>INJURED</th>\n",
       "      <th>DETAIL</th>\n",
       "      <th>QUINN_EDUCATION</th>\n",
       "      <th>TOTAL_ GROSS</th>\n",
       "      <th>POSTAL</th>\n",
       "    </tr>\n",
       "  </thead>\n",
       "  <tbody>\n",
       "    <tr>\n",
       "      <th>0</th>\n",
       "      <td>Gavin,Donna M.</td>\n",
       "      <td>Boston Police Department</td>\n",
       "      <td>Police Lieutenant (Det)</td>\n",
       "      <td>53,226.90</td>\n",
       "      <td>NaN</td>\n",
       "      <td>1,045,845.44</td>\n",
       "      <td>463.52</td>\n",
       "      <td>NaN</td>\n",
       "      <td>NaN</td>\n",
       "      <td>12,812.39</td>\n",
       "      <td>1,112,348.25</td>\n",
       "      <td>02186</td>\n",
       "    </tr>\n",
       "    <tr>\n",
       "      <th>1</th>\n",
       "      <td>Cassellius,Brenda</td>\n",
       "      <td>Superintendent</td>\n",
       "      <td>Superintendent</td>\n",
       "      <td>179,109.61</td>\n",
       "      <td>NaN</td>\n",
       "      <td>417,839.83</td>\n",
       "      <td>NaN</td>\n",
       "      <td>NaN</td>\n",
       "      <td>NaN</td>\n",
       "      <td>NaN</td>\n",
       "      <td>596,949.44</td>\n",
       "      <td>55419</td>\n",
       "    </tr>\n",
       "    <tr>\n",
       "      <th>2</th>\n",
       "      <td>Dempsey,John</td>\n",
       "      <td>Boston Fire Department</td>\n",
       "      <td>Commissioner (BFD)</td>\n",
       "      <td>133,653.78</td>\n",
       "      <td>NaN</td>\n",
       "      <td>312,752.53</td>\n",
       "      <td>NaN</td>\n",
       "      <td>NaN</td>\n",
       "      <td>NaN</td>\n",
       "      <td>NaN</td>\n",
       "      <td>446,406.31</td>\n",
       "      <td>02152</td>\n",
       "    </tr>\n",
       "    <tr>\n",
       "      <th>3</th>\n",
       "      <td>Demesmin,Stanley</td>\n",
       "      <td>Boston Police Department</td>\n",
       "      <td>Police Lieutenant (Det)</td>\n",
       "      <td>145,775.26</td>\n",
       "      <td>NaN</td>\n",
       "      <td>13,932.92</td>\n",
       "      <td>196,515.25</td>\n",
       "      <td>NaN</td>\n",
       "      <td>11,880.00</td>\n",
       "      <td>29,155.26</td>\n",
       "      <td>397,258.69</td>\n",
       "      <td>02052</td>\n",
       "    </tr>\n",
       "    <tr>\n",
       "      <th>4</th>\n",
       "      <td>Smith,Sean P</td>\n",
       "      <td>Boston Police Department</td>\n",
       "      <td>Police Lieutenant</td>\n",
       "      <td>142,535.62</td>\n",
       "      <td>NaN</td>\n",
       "      <td>18,827.45</td>\n",
       "      <td>142,692.38</td>\n",
       "      <td>NaN</td>\n",
       "      <td>46,365.00</td>\n",
       "      <td>35,633.88</td>\n",
       "      <td>386,054.33</td>\n",
       "      <td>02186</td>\n",
       "    </tr>\n",
       "  </tbody>\n",
       "</table>\n",
       "</div>"
      ],
      "text/plain": [
       "                NAME           DEPARTMENT_NAME                    TITLE  \\\n",
       "0     Gavin,Donna M.  Boston Police Department  Police Lieutenant (Det)   \n",
       "1  Cassellius,Brenda            Superintendent           Superintendent   \n",
       "2       Dempsey,John    Boston Fire Department       Commissioner (BFD)   \n",
       "3   Demesmin,Stanley  Boston Police Department  Police Lieutenant (Det)   \n",
       "4       Smith,Sean P  Boston Police Department        Police Lieutenant   \n",
       "\n",
       "      REGULAR RETRO         OTHER    OVERTIME INJURED     DETAIL  \\\n",
       "0   53,226.90   NaN  1,045,845.44      463.52     NaN        NaN   \n",
       "1  179,109.61   NaN    417,839.83         NaN     NaN        NaN   \n",
       "2  133,653.78   NaN    312,752.53         NaN     NaN        NaN   \n",
       "3  145,775.26   NaN     13,932.92  196,515.25     NaN  11,880.00   \n",
       "4  142,535.62   NaN     18,827.45  142,692.38     NaN  46,365.00   \n",
       "\n",
       "  QUINN_EDUCATION  TOTAL_ GROSS POSTAL  \n",
       "0       12,812.39  1,112,348.25  02186  \n",
       "1             NaN    596,949.44  55419  \n",
       "2             NaN    446,406.31  02152  \n",
       "3       29,155.26    397,258.69  02052  \n",
       "4       35,633.88    386,054.33  02186  "
      ]
     },
     "execution_count": 7,
     "metadata": {},
     "output_type": "execute_result"
    }
   ],
   "source": [
    "earnings21.head()"
   ]
  },
  {
   "cell_type": "markdown",
   "id": "d2db1cd4",
   "metadata": {},
   "source": [
    "### How do we deal with missing data?"
   ]
  },
  {
   "cell_type": "code",
   "execution_count": 8,
   "id": "c6c5d591",
   "metadata": {},
   "outputs": [
    {
     "name": "stdout",
     "output_type": "stream",
     "text": [
      "overtime21\n",
      "Tracking_No               0\n",
      "Emp. ID                   0\n",
      "Employee                  0\n",
      "Rank                      0\n",
      "Street                    0\n",
      "xStreet               52282\n",
      "Detail\\nDate              0\n",
      "Start\\nTime               0\n",
      "End \\nTime                0\n",
      "Hours\\nWorked             0\n",
      "Hours\\nPaid               0\n",
      "Type                      0\n",
      "Customer No.              0\n",
      "Customer                  0\n",
      "Customer Address          0\n",
      "Customer Address 1    47931\n",
      "Customer Address 3    69097\n",
      "Customer_City             0\n",
      "Customer_State            0\n",
      "Customer_zip              2\n",
      "dtype: int64\n",
      "overtime_court21\n",
      "ID               0\n",
      "NAME             0\n",
      "RANK             0\n",
      "ASSIGNED_DESC    0\n",
      "CHARGED_DESC     0\n",
      "OTDATE           0\n",
      "OTCODE           0\n",
      "DESCRIPTION      0\n",
      "STARTTIME        0\n",
      "ENDTIME          0\n",
      "WRKDHRS          0\n",
      "OTHOURS          0\n",
      "dtype: int64\n",
      "earnings21\n",
      "NAME                   0\n",
      "DEPARTMENT_NAME        0\n",
      "TITLE                  0\n",
      "REGULAR              600\n",
      "RETRO              20112\n",
      "OTHER               7378\n",
      "OVERTIME           16392\n",
      "INJURED            21983\n",
      "DETAIL             21088\n",
      "QUINN_EDUCATION    21835\n",
      "TOTAL_ GROSS           0\n",
      "POSTAL                 0\n",
      "dtype: int64\n"
     ]
    }
   ],
   "source": [
    "print('overtime21')\n",
    "print(overtime21.isnull().sum())\n",
    "\n",
    "print('overtime_court21')\n",
    "print(overtime_court21.isnull().sum())\n",
    "\n",
    "print('earnings21')\n",
    "print(earnings21.isnull().sum())"
   ]
  },
  {
   "cell_type": "markdown",
   "id": "a7abbbcf",
   "metadata": {},
   "source": [
    "## Difference between hours worked and hours paid\n",
    "\n",
    "### TODO\n",
    "\n",
    "### Any pattern? time of year, location, weekdays/weekends, \n",
    "\n"
   ]
  },
  {
   "cell_type": "code",
   "execution_count": 117,
   "id": "1665b55b",
   "metadata": {},
   "outputs": [
    {
     "data": {
      "text/plain": [
       "Index(['Tracking_No', 'Emp. ID', 'Employee', 'Rank', 'Street', 'xStreet',\n",
       "       'Detail\\nDate', 'Start\\nTime', 'End \\nTime', 'Hours\\nWorked',\n",
       "       'Hours\\nPaid', 'Type', 'Customer No.', 'Customer', 'Customer Address',\n",
       "       'Customer Address 1', 'Customer Address 3', 'Customer_City',\n",
       "       'Customer_State', 'Customer_zip', 'count'],\n",
       "      dtype='object')"
      ]
     },
     "execution_count": 117,
     "metadata": {},
     "output_type": "execute_result"
    }
   ],
   "source": [
    "temp_overtime21 = overtime21.copy()\n",
    "temp_overtime21.sort_values(by=['Emp. ID', 'Detail\\nDate'], inplace=True)\n",
    "\n",
    "temp_overtime21['count'] = temp_overtime21.groupby('Emp. ID').count().iloc[:, 0]\n",
    "\n",
    "temp_overtime21.columns"
   ]
  },
  {
   "cell_type": "markdown",
   "id": "eef65f19",
   "metadata": {},
   "source": [
    "### Hours worked and hours paid are ceratinly different"
   ]
  },
  {
   "cell_type": "code",
   "execution_count": 119,
   "id": "89a53345",
   "metadata": {},
   "outputs": [
    {
     "name": "stdout",
     "output_type": "stream",
     "text": [
      "[ 615  625  742  725  712  855  700  748  754  715  709  830  900  500\n",
      "  630  600  100  430  800  730  200   45  530  415  315  230  445  745\n",
      "  300  400  710  930  655  645  650   30   15  515  130  115  330  635\n",
      "  647  637  815  345  145  545  720  640  729  817  657  215  915  245\n",
      " 1000  620  618   20  707  705  755  925  639  627  718  804 1400  425\n",
      " 1230 1530   55  845  440 1200  540  747 1100  459  420  529  648  520\n",
      "  455  807  945  750  827  910  610  429 1115  514  724  825 1015  659\n",
      " 1030  510  509  450 1130  550  220  310   35  505  410  120  759  335\n",
      "   40  850  735   10  110  525  435  555  150  340  250  518  703  810\n",
      "  135  210  155]\n",
      "[4, 5, 6, 8, 9, 10, 11, 12, 13, 14, 16]\n"
     ]
    }
   ],
   "source": [
    "print(temp_overtime21['Hours\\nWorked'].unique())\n",
    "print(sorted(temp_overtime21['Hours\\nPaid'].unique()))"
   ]
  },
  {
   "cell_type": "code",
   "execution_count": 120,
   "id": "5672d1ed",
   "metadata": {},
   "outputs": [],
   "source": [
    "def workedhr_to_time(num):\n",
    "    time = pd.to_datetime(num, format='%H%M')\n",
    "    return time\n",
    "    \n",
    "def paidhr_to_time(num):\n",
    "    time = pd.to_datetime(num, format='%H')\n",
    "    return time\n",
    "\n",
    "temp_overtime21['Workedhrs'] = temp_overtime21['Hours\\nWorked'].apply(workedhr_to_time)\n",
    "temp_overtime21['Paidhrs'] = temp_overtime21['Hours\\nPaid'].apply(paidhr_to_time)\n",
    "\n",
    "temp_overtime21['Paid - Worked'] = temp_overtime21['Paidhrs'] - temp_overtime21['Workedhrs'] \n",
    "\n",
    "def time_to_int(time):\n",
    "    return time.seconds / (60 * 60)\n",
    "    \n",
    "temp_overtime21['Paid - Worked'] = temp_overtime21['Paid - Worked'].apply(time_to_int)\n"
   ]
  },
  {
   "cell_type": "code",
   "execution_count": 136,
   "id": "e85feb3d",
   "metadata": {},
   "outputs": [
    {
     "data": {
      "text/plain": [
       "Text(0.5, 1.0, 'Paid - Wored Hours: Number of Records')"
      ]
     },
     "execution_count": 136,
     "metadata": {},
     "output_type": "execute_result"
    },
    {
     "data": {
      "image/png": "[encoded data removed]",
      "text/plain": [
       "<Figure size 432x288 with 1 Axes>"
      ]
     },
     "metadata": {
      "needs_background": "light"
     },
     "output_type": "display_data"
    }
   ],
   "source": [
    "plt.hist(temp_overtime21['Paid - Worked'], bins=20)\n",
    "plt.title('Paid - Wored Hours: Number of Records')"
   ]
  },
  {
   "cell_type": "code",
   "execution_count": 147,
   "id": "c72a41ab",
   "metadata": {},
   "outputs": [
    {
     "data": {
      "text/plain": [
       "Text(0.5, 1.0, 'Sum of Paid - Wored Hours by Employee ID')"
      ]
     },
     "execution_count": 147,
     "metadata": {},
     "output_type": "execute_result"
    },
    {
     "data": {
      "image/png": "[encoded data removed]",
      "text/plain": [
       "<Figure size 432x288 with 1 Axes>"
      ]
     },
     "metadata": {
      "needs_background": "light"
     },
     "output_type": "display_data"
    }
   ],
   "source": [
    "sum_timediff = temp_overtime21.groupby(['Emp. ID']).sum(['Paid - Worked'])\n",
    "plt.hist(sum_timediff['Paid - Worked'], bins=10)\n",
    "plt.title('Sum of Paid - Wored Hours by Employee ID')"
   ]
  },
  {
   "cell_type": "code",
   "execution_count": 150,
   "id": "c6efbf6d",
   "metadata": {},
   "outputs": [
    {
     "data": {
      "text/plain": [
       "Index(['Tracking_No', 'Rank', 'Start\\nTime', 'End \\nTime', 'Hours\\nWorked',\n",
       "       'Hours\\nPaid', 'Customer No.', 'count', 'Paid - Worked'],\n",
       "      dtype='object')"
      ]
     },
     "execution_count": 150,
     "metadata": {},
     "output_type": "execute_result"
    }
   ],
   "source": [
    "sum_timediff.columns"
   ]
  },
  {
   "cell_type": "code",
   "execution_count": 152,
   "id": "9ded5b71",
   "metadata": {},
   "outputs": [
    {
     "name": "stdout",
     "output_type": "stream",
     "text": [
      "598 Employees have 100+ hours of Paid - Worked hours is 44.83%\n",
      "283 Employees have 250+ hours of Paid - Worked hours is 21.21%\n",
      "77 Employees have 500+ hours of Paid - Worked hours is 5.77%\n",
      "9 Employees have 1000+ hours of Paid - Worked hours is 0.67%\n"
     ]
    }
   ],
   "source": [
    "timediff_list = [100, 250, 500, 1000]\n",
    "\n",
    "for i in timediff_list:\n",
    "    total_cnt = sum_timediff.shape[0]\n",
    "    temp = sum_timediff[sum_timediff['Paid - Worked']>=i]\n",
    "    ovetime_cnt = temp.shape[0]\n",
    "    print(f\"{ovetime_cnt} Employees have {i}+ hours of Paid - Worked hours is {round(ovetime_cnt / total_cnt * 100, 2)}%\")"
   ]
  },
  {
   "cell_type": "markdown",
   "id": "649d9cec",
   "metadata": {},
   "source": [
    "## Check overtime pay dist\n",
    "### 'str' and 'float' was mixed in 'OVERTIME'"
   ]
  },
  {
   "cell_type": "markdown",
   "id": "0bc48198",
   "metadata": {},
   "source": [
    "### TOO many titles... "
   ]
  },
  {
   "cell_type": "code",
   "execution_count": 73,
   "id": "54fc84f6",
   "metadata": {
    "scrolled": true
   },
   "outputs": [
    {
     "name": "stdout",
     "output_type": "stream",
     "text": [
      "{'FF (FPD InspLev2Certification)', 'Chief of Staff', 'Sen Technician 33', 'Police Lieutenant', 'DepFireChiefAdmn-AdvTechnician', 'Construction&DesignServMangr', 'Lieut-Hackney Carriage Inves.', 'Specialist (BTU) non ac', 'Librarian', 'BPS Bi-Wkly 26 Leave non-ac', 'Driver', 'Asst Keeper Of Prints', 'Corporation Counsel', 'HMIS Administrator', 'Collection Agent(Bpd)', 'Confidential Secretary (Fcm)', 'Dir of Personal Property', 'Aquatics Manager', 'Hvy Mtr Equi Repairpr Class II', 'Director of Human Resources', 'Principal Middle', 'Prin Account Clerk 25', 'Social Worker (BPD)', 'Sen Technician (C)', 'Dir-Public Info (Police)', 'Police Sergeant/AcadInstructor', 'Financial Analyst', 'Safety Inspector (C Fleet Mn)', 'Jr Eng Aid', 'Police Sergeant', 'Library Aide', 'Police Officer', 'Spprtng Indgnous Comm Fellow', 'Carpenter', 'Chief Of Staff', 'Sr Data Proc Sys Anl (BTD)', 'Sr. Graphic Designer', 'Supv-Parking Enforcement', 'Digital Director', 'Dir, BosRegIntelCntr (Red-Cir)', 'Sr Budget Anl (BPD)(H&H)', 'Supv Graphic Arts Svc (BPD)', 'Police Captain/DDC', 'Program Director Basas 10', 'Chemist', 'Senior Advisor (F)', 'Admin Asst', 'Articled Clerk', 'Sr Project Mangr (PFD)', 'Curator -Profess Librarian', 'FireLieutenant(ScubaDivTech', 'Planner(C)', 'Property Utilization Officer', 'Director (NonAcad) D', 'Park Ranger I', 'Supv Permitting&Building Admin', 'FF (Spec Haz Insp)-ADR', 'Dir of Fleet Management', 'Employment Agreement', 'Customer Service Team Lead (B)', 'Admin Asst/School Committee', 'FF (Asst To Pub Inf Offcr)', 'User Support Technician', 'Sr Bldg Custodian  (T)', 'Research & Policy Dir (CC)', 'Security Para', 'Dir-Assessing Services', 'Secondary Superintendent (F)', 'Cafeteria Manager 12', 'FF(TrainigInstructor)AdvTech', 'Jr  Building Custodian', 'Chaplain In Charge (Fire Dept)', 'Yth Programs Librarian III', 'Prin Clerk/School Sec 19E', 'Data Proc Sys Analyst', 'Security Offc (Prot Ser)', 'ChCommEquipOper I (SCTT)', 'Manager of the Arts', 'Asst Superintendent(NonACAD)E', 'Dir of Business Strategy', 'Audiologist', 'Dir of Employee Asst (EAP)', 'Dog Offr(AnimalControlOffcr)##', \"Worker's Compensation Case Mgr\", 'Dir-Operations', 'Officer-Bps Police', 'Sr Traffic Signal Repairprs II', 'Head Buyer 33', 'Chief Inform & Security Offcr', 'Sr Traffic Signal Repairprs I', 'Jr Civil Eng', 'Public Relations Coordinator', 'Data Proc Svcs Director(Bpd)', 'Program Mngr', 'BPS Weekly Custodian Leave', 'Assistant Speech Writer', 'Asst Director Basas 9', 'Youth Prog Support Adminstrtr', 'Accounting Manager', 'District Fire Chief Tech-ADR', 'Special Assistant (C)', 'Police Captain-DDC/HRCD', 'District FireChiefAdmn-AdvTech', 'Gen Maint Mech Frprs##', 'Strategic Manager', 'Asst Teacher', 'Dep Commis of Prgs&Partnership', 'Exec Sec', 'Programs & Comm Outreach Libr', 'Sen Supv Schl Bldg Electrical', 'Program Administrator', 'Data Proc Systems Analyst', 'Dist Fire Chief-Adm Asst Dvmtr', 'Radio Supv (Bfd)', 'Chief Claims Investigator', 'Workforce Develop Librarian', 'Youth Worker', 'Sen Custodian', 'Supv of Building Inspection', 'Sr Human Resources Generalist', 'FF - Safety Specialist', 'Traffic Signal Inspector', 'Maint Mech (Welder)##', 'Distribution Center Worker', 'Sr Radio Comm Tech CFM##', 'Grants and Payroll Coordinator', 'Dir of Performance Management', 'Member-Bd Of Review', 'Police Officer Mobile Oper 2$6', 'Prin Storekeeper', 'Data Proc Equip Tech (BPD)', 'Finance Assistance', 'Police Offc Breath $13.50', 'Police Offc Mobile Offc 2$6', 'Dir-Marketing', 'Dir  of Valuation', 'Admin Asst (M/Wbe)', 'EAP Coordinator', 'Admin Asst I (Prop Mgnt)', 'Prin Dp Sys Anal-Dp', 'Sr Computer Oper (Shift Supv)', 'Supv of Personnel', 'Chief of Staff/Executive Asst', 'Dir of Planning and Policy', 'Literacy Specialist II (BPL)', 'Customer Service Rep', 'Sr Budget Anl (Eld/Fiscal)', 'Store Control Supv(Bpd Fleet)', 'Unit Manager', 'Taxi Coupon Coordinator', 'Nutritional Literacy Coord', 'Building Systems Engineer', \"Children's Librarian I\", 'Budget Manager', 'Head Cashier', 'Criminalist III', 'Adm Dir of Volunteer Programs', 'FF(SOCEquip&LogMgr)-Technician', 'Exec Dir', 'Spv/UtilityCompliance&Coordnti', 'Asst Parking Clerk', 'Transition IntegrationAdvocate', 'Prin Clerk Typist 21', 'Spec Asst I', 'Supn Of Park Maint (Trades)', 'Sr Bldg Custodian', 'Substitute Nurse', 'Asst Purchasing Agent', 'Advisor', 'Traffic Sign Supv', 'Gardener', 'District Fire Chief Admin', 'Registrar', 'Sen  Program Coord C Non Acad', 'Community Relations Specialist', 'Chief BldgConstruction&RprDir', 'Mech Equip Repairprs (PM)', 'Dir of Human Resources', 'Prin Admin Asst', 'Asst Civil Engineer', 'Cafeteria Manager 10', 'Police Officer Harborboat 3$8', 'DigitizationAsstProjArchivist', 'Parking Meter Oper Person I##', 'Director of Diversity', 'Project Manager', 'Supervisor Of Attendance', 'C O T A Para', 'Captain/Academy Instructor', 'City Registrar', 'Police Sergeant/Hdq Dispatcher', 'FF (Asst Supn Maint)', 'Maint Mech - HVAC Technician', 'Chief Engineer (P&R)', 'Sr Personnel Analyst', 'WkgFrprsMaint Mech(Painter)##', 'Prin Data Proc Systems Analyst', 'Adult Ed Instructor', 'Chief BureauofAdminServ (Fire)', 'Commissioner (Vet)', 'Sr Admin Asst (Fire)', 'Spec Library Asst I', 'Commissioner (Ins)', 'Fire Fighter (InctComndSp) DFC', 'Supn-Horticulture', 'Mgr of Rare Books&Manuscripts', 'Area Manager', 'Library Paraprofessional', 'Greenhouse Gardener', 'Police Sergeant/CHF RADIO DISP', 'Housing Specialist', 'Director of Admin and Finance', 'International Partnerships Mgr', 'Program Director (Basas 10B)', 'Maint Mech (Painter) (T & P)##', 'Investment Analyst (RetireBd)', 'Tree Warden', 'WkgFrprsTraSignalRpprTest##', 'Admin Secretary (Isd)', 'Consumer Advocate', 'Intern I', 'Sr Data Proc Sys An(Budget)', 'Assoc Inspec  Engineer(Isd)', 'Sr Technical Project Mgr', 'City Clerk', 'Envrnmntl Health Inspector I', 'Asst Dir of Parking Mgmt', 'Sr Developer', 'Chief Financial Officer(F)', 'Sr Programmer', 'EmrgncyCommSpec911 Call Taker', 'Sr Admin Asst (Pwd)', 'Technology Access Manager', 'Constituent Rel&Soc Med Spec', 'Maint Wkr/Custodian', 'Human Resources Asst', 'School Psychologist(1)', 'Summer Program Assistant', 'Asst Supn of Street Operations', 'Tape Librarian I (BPD)', 'Dir Human Resources (Parks)', 'Chief Operating Officer(F)', 'Spc Libr Asst V/Shipping Supv', 'Exc Asst', 'Director of Operations', 'Asst Bldg Commissioner', 'Collector-Treasurer', 'Cafeteria Manager14', 'Athletic Assistant', 'Regional Coordinator', 'Asst Manager-Data Processing', 'Resources Development Manager', 'Dir of Operations (ISD)', 'Asst Dir (Homeland Sec)', 'Management Analyst(Insp Srvc)', 'Sum Sch - BTU Prof', 'Digital Imaging Production Ast', 'Admin Asst (Police)', 'SOAR Program Director', 'Per Diem Substitute Teacher HE', 'Program Assistant(PFD/BPD)', 'Dir, Shared Services', 'Student Dev Counselor (1)', 'Receptionist', 'Paralegal Assistant(C)', 'Fire Captain Admn-Advance Tech', 'Office Manager(Asn)', 'SEIMS Support Asst 23', 'Tutor Home & Hospital', 'Dir Human Resources (Fire)', 'HdAdmClerk/VeteransBenefitsSpc', 'Wkg Frprs Painter', 'Garage Attendant', 'Sr Absence Mgmt Administrator', 'Dog Offcr(Sr Animal Cntl Ofcr)', 'Telephone Operator (Prop Mgnt)', 'Exec Sec (P&R) Cementaries', 'Head Grounds Keeper', 'Traffic OperationsTechnician##', 'Policy Analyst', 'HMIS User Specialist', 'Deputy Director Strategic Proc', 'Chief Human Capital Officer(F)', 'Chief Policy & Planning', 'Director, Human Resources', 'Jr Civil Eng (Fss EngDivPwd)##', 'Digital ImagingProductionCoord', 'Senior Personnel Officer', 'Dir of MIS', 'Advisor to the Chief of DND', 'Records Mngr', 'Analyst (C)', 'BPD Homicide Intelligence Anl', 'Admin Assistant B', 'Housing Coordinator (Elderly)', 'Research Analyst', 'Emerg CommSpec-TrngCoordinator', 'Sr Personnel Officer', 'Sr Compliance Officer', 'Lifeguard I', 'Police Offc/Juvenile Offc 4$10', 'Coord of Youth Services', 'Exec Sec (Parks & Recreation)', 'Human Resources Manager (BPL)', 'Hvy Mtr Equ Repairpr Class III', 'Branch Librarian I', 'Prin Clerk (Vitals/Registry)', 'Dir of Public Record', 'Young Adults Librarian II', 'Librarian Manager I', 'Office Manager (CC)', 'Police Detective', 'FCommissioner/Chief of theDept', 'Director of Projects & Initiat', 'Police Sergeant/FgrPrt Ev Tech', 'Sr Traffic Engineer', 'Admin Secretary', 'Network Administrator', 'Program Director (C)', 'Yth & Career Development Coord', 'Specialist (BTU)', 'Systems Officer', 'Supv-Parking Meter Operations', 'Mayor', 'Project Mngr', 'Sr Admin Anl (Sp Proj Stff)Aud', 'Administration&TechnclAsst(CC', 'Per Diem Substitute Teacher', 'Staff Asst/Chf Bureau Adm Serv', 'Building Manager', 'Prin Civil Eng (Fss)##', 'Prin Personnel Officer', 'Asst Traffic Signal Supv', 'Facility Mgr-Nights & Weekends', 'Police Captain (Det)', 'Supv-Highway Maint (Pwd)', 'Dir of Administration&Finance', 'Career Counselor', 'Sr Parking Meter Supervisor II', 'Supn-Sanitation', 'Director (Basas 12B Acad)', 'Exec  Asst  (CC)', 'Sen Tech - Environmental', 'Grant Manager', 'Member-Fair Housing Comm', 'Project Coor', 'Sr Research Analyst', 'Maint Mech (Bulding Systems)', 'Technician (B)', 'Chief of Internal&External Com', 'Spec Asst IV', 'DirofLegislativ Budge Anls(CC)', 'Collection Agent I', 'Assistant Compliance Manager', 'Prin Research Analyst', 'Manager,Training & Development', 'Asst Traffic Engineer', 'Mobile Enterprises Mgr', 'Dir-Public/Media Relations', 'Staff Asst III', 'Claims/Affirmative RecoveryAnl', 'Police Lieut/Paid Detail Ser', 'Lieutenant', 'Interlibrary Loan Coord', 'Asst Comm/Weights & Measures', 'Street Permit Examiner', 'Prog Director Basas 11(non-ac)', 'SPED Coverage Paraprofessional', 'Dir of Latent Print Unit (BPD)', 'Application & Training Manager', 'Manager (D) (non-ac)', 'Asst Electrical Engineer', 'Supv -  Management Svcs', 'Fire Captain', 'Jr Electrical Repair Person', 'Head Staff Asst 28 (HMCB)', 'Instruction Librarian II', 'Controller', 'FF (FPD Night Division Inspec)', 'BPS Bi-Weekly 26 Leave', 'Chief Electrical Inspector', 'Exec Asst Commissioner', 'Exec Sec School Comm', 'Contract Supervisor 31', 'Assistant Director', 'Police Offc/FgrPrt Ev Tch 4$10', 'Second Asst Coll-Trs (Trs/Trs)', 'Supn Bpd', 'Police Sergeant (Det)', 'Admin Asst (Chief Basic Serv)', 'Mailroom Equipment Operator', 'Adm Dir for Age-FriendlyBoston', 'Sen Specialist (C)', 'Admin Asst (Asd/Cab)', 'Lead Satellite Attendant A', 'Help Desk Manager', 'Lineperson', 'Prin Admin Asst (Trs/Col)', 'AssocDir,BPDOfficeofReas&Devel', 'StreetlightingConstInsp(Pwd)##', 'Traffic Operations Frprs##', 'Research Specialist', 'Mngr of Mjr Prjcts & Spec Oper', 'Teller', 'Special Assistant I (CC)', 'Program Director C', 'Staff Assistant B', 'Dir of Policy', 'Case Manager (Fire Dept.)', 'FF (Inct Comnd Sp) DEP', 'Code Enforcement Off(Srgt)', 'Dir, Administration & Finance', 'Staff Asst II', 'Program Coordinator', 'Operations Assignment Coor', 'Police Offc Harborboat 3$8', 'FF(IncidentCommandSp)DFC-AdvTe', 'Program Monitor I', 'Sr Management Analyst', 'Conservation Officer', 'Hvy Mtr Equip Oper & Lbr (P&R)', 'Asst Reg Voters Hourly', 'Dir-Signal Service (Bpd)', 'Police Officer Hdq Dispatch', 'Collection Development Manager', 'Spec Library Asst V', 'Programs & Outreach Librarian', 'Superintendent', 'Sen Specialist C', 'President', 'CityMessengr&SrLegislatvAsstCC', 'Finance Assistant', 'Prin Civil Engineer', 'Retire Benefits Manager (HBI)', 'Sr Budget Manager', 'Spc Collections Pub Servs Lib', 'Sr Legal Asst (Fire Dpt)', 'Data Proc Coordinator', 'Management Analyst (Obpe)', 'Supv-Accounting', 'Technology Support Specialist', 'Labor Relations Anal (Lab Rel)', 'Chief of  Equity', 'Building Maint Person##', 'Asst Traffic Sign Supv ##', 'Exec Asst   (Obpe)', 'Admin Asst (B)', 'Gardener Foreperson', 'FF(Liaison to RetirementBoard)', 'Collection Librarian II', 'Administrative Coordinator', 'Staff Asst', 'Asst Director (Basas 10B)', 'Scheduler', 'Legislative Asst (CC)', 'Police Dispatcher', 'Prin Clerk/School Sec 23', 'Asst Commss/Constituent Serv', 'Substitute Teacher', 'Police Lieutenant/Hdq Dispatch', 'Chief  Communications/Strategy', 'Reference Librarian I', 'Highway Maint Frprs (Pwd)##', 'Asst Commss/Environmental Serv', 'Specialist (C)', 'Maint Mech (Painter)##', 'Exec Off-Retirement Board', 'Technician B', 'Spec Library Asst II (Branch)', 'Sr Traffic Maint Person##', 'Jr Custodian', 'Chief Public Works & Transport', 'Fire Lieutenant Administration', 'Head of School', 'Sr Research Analyst (BRJP)', 'Sr Data Proc Sys Anl', 'Asst. Payroll &Vendor Clerk', 'Police Captain/Hackney Invest', 'Sign Language Interpreter', 'Laborer (Park)', 'Archivist', 'Sr Finance Manager', 'Prin Library Asst', 'Chaplain', 'Literacy Coordinator', 'Statistical Analyst(Bpd)', 'Gen Sup Pk Maint (Cemetery)', 'Exhibitions Outreach Coord', 'Preservation Planner', 'Dep Fire Chief Administration', 'Jr Coordinator (C)', 'Policy Analyst&Project Manager', 'Assoc Inspection Eng Fire-Serv', 'Asst Supv-Sch Bld El In & Mnt', 'Asst Dir for Compliance-Loans', 'Chief of Staff & Strategy', 'Prin Admin  Asst', 'Dir of Strategic Partnerships', 'Prog Director (D) (non-ac)', 'Professional Librarian III', 'HR Transformation Director', 'Dep Comm-Veterans Bnfits & Svc', 'Wkg Frprs Carpenter', 'Sr Admin Asst (MangrSecrtySytm', 'Staff Asst (C)', 'Sen Coordinator (C) (non-ac)', 'Unemployment Claims Agent', 'Dir  (Class & Comp)', 'Commissioner (P&R)', 'Director (non-ac)', 'Asst Director (Basas 11B)', 'IBIS Support Technician', 'Volunteer Coordinator', 'ExecDirConsumerAffrs&Licensing', 'Dep Commissioner (Parks)', 'New Teacher Developer', 'ILL & Research Svcs Librarian', 'Commissioner (Cannabis Bd)', 'Exec Asst (Law)', 'Hot Line Worker', 'Program Supervisor', 'Sen Coordinator C', 'Asst City Auditor', 'Jr Building Custodian', 'Sr Library Asst (Branch)', 'Coord-Manager B', 'First Asst Coll-Trs (Trs/Col)', 'Management Analyst (Bpd)(Asse)', 'CommunEquipOp III, R-13 (CT)', 'Digital Video Technician', 'City Auditor', 'Assignment Transfer Spec.', 'Lunch Hour Monitors', 'Retiree Benefits Rep (HBI)', 'Chief of Environment & Energy', 'Lieut. Supv of Court Cases', 'Tech Coordinator\\xa0', 'MaintMechPaint(PMDGraffRemoval', 'Technical Specialist', 'Preservation Assistant', 'Talent Acquisition Specialist', 'Chief Officer (Acad) (F)', 'Police Sergeant/Hackney Invest', 'Commissioner (T&P)', 'Street Lighting Compliance Spc', 'Prin Clerk Typist 31', 'ABA Specialist (BTU)', 'Talent Acquisition Sourcer', 'Legal Asst', 'Dupl Dist Supervisor 29', 'Exec Sec (B.P.D)', 'Digital Content Creator', 'Gen Supn (Pks/Turf Maint)', 'Admin Asst (Prop Mgmt)', 'IncidentCommandTechtoFireComm', 'Prin Housing Inspector', 'Community Liaison  (ISD)', 'Prin Clerk Typist 27', 'Business Analyst', 'Admin Asst (C)', 'Head Central Child Serv.', 'Standby Cab Monitor HE', 'Spec Asst Director', 'Police Lieut/Acad Instr', 'Chief of Civic Engagement', 'Neigh Library Service Manager', 'Trans Program Planner IV', 'Shared Manager', 'Conservation Assistant', 'Director (Basas 10B) (non-ac)', 'Permit Supervisor (Pwd)', 'Equity & Outreach Coordinator', 'Fellow', 'Youth Programs Librarian', 'Graphic Arts Technician', 'Office Manager/Contract Manage', 'Compliance Monitor', 'Prin Admin Asst (P&R)', 'Supv-Labor Relations', 'Jr Traffic Engr', 'Teen Outreach Librarian', 'City Council Liaison', 'Dir of Rec Prg & Permitting', 'Spc Asst to the Commissioner', 'Police Sergeant/Mobile Oper', 'Book Conservatior Proj Direc', 'Chief of Safety Serv', 'School Committee Member', 'Fire Captain (Scuba Diver)', 'Director C Non Acad', 'Fire Fighter-Technician', 'Sr Bldg Custodian (New Ch)', 'Emrgncy Comm Spec Police Dispa', 'Assoc Dir', 'FF(SOCEquip&LogMgr)-AdvTech', 'Chief of Schools', 'Prin Fire Alarm Operator', 'Asst Survey Director', 'FF (InctComndSp) DFC-ADR', 'Asst Cafeteria Manager', 'Summer BTU Para', 'Reader & Info Librarian I', 'Sr Claims Investigator', 'School Traffic Supv', 'Arts Commissioner', 'Deputy Director (D)', 'Student Intern', 'Advocacy Representative', 'Election Operations Asst', 'Police Captain', 'Digital Repository Developer', 'Supv of Accounting Services', 'Dir of Strategic Procurem', 'Dir, ExternalAffairs&Marketing', 'Parking Meter Supervisor', 'Contruction Specialist I', 'Cemetery Foreperson##', 'Over-Time Stipend Other', 'Swimming Instructor', 'Communication Spec', 'Sr Marketing Associate', 'Laborer Seasonal  (PW)', 'Budget & Procurement Manager', 'Site Supervisor', 'Jr Technician (A)', 'Park Maint Foreprs##', 'Volunteer Prog Coord', 'FCaptAdminScubaDivAdvTech', 'ConsumerSpecialist&OutreachCoo', 'Manager (NonAcad) (D)', 'Data Anlys & Sys App Tech', 'Inside Wireperson', 'Architect', 'Project Manager (PFD)', 'Motor Equip Oper & Pw Lbr', 'Deputy Director, Scheduling', 'Procurement/AP Manager', 'Network Manager', 'Cadet (Police)', 'Sub Teacher - Retiree', 'Motor Equip Oper & Lbr (P&R)', 'Sen Spec - Energy', 'Prin Clerk Typist 23', 'Dir of Health Benefits', 'Cafeteria  Manager 18', 'Mechanic', 'FF Place of Assembly Insp-ADR', 'Sanitation Insp##', 'Grants Manager', 'Park Ranger III', 'Sen Computer Operations Tech', 'Cluster Substitute', 'Compensation & Compliance Spc', 'Spec Asst II', 'Nurse', 'Grave Digger', 'Staff Asst (Pt)', 'Dir of Design Review', 'District Fire Chief-Adv Tech', 'Fire Lt Admn-AdvanceTechnician', 'Admin Asst (Igr)', 'Head Storekeeper', 'Asset Manager', 'Sen Prog Director (Basas 11B)', 'Waste Reduction Prog Mgr', 'Chief Of Planning', 'Head Admin Clerk-32', 'Prin Clerk', 'EmergCommSpec-911Trainer', 'Health Inspector##', 'Pool Manager', 'Physical Therapist', 'Urban Mechanics Fellow', 'Radio Operator (Bfd)', 'Substitute Nurse HE', 'Admin Coordinator (Com Sch)', 'Board Member Appeals', 'Public Relations Associate', 'Asst Payroll Supv', 'Sr Housing Develop Offcr', 'Maint Mech Frprs (Carpenter)##', 'CommHistory&DigitizationSpcls', 'Project Mngr, Alterative Finan', 'Commissioner (Lbd)BM', 'Trust and Asset Manager', 'Supv Of Acntng (Auditing)', 'Substitute Cafeteria Attendant', 'Chief of Student Support', 'Fire Alarm Operator', 'Sr Project Manager', 'Outreach & Engmnt Coord (BCYF)', 'Dir-Transportation (Bpd)/(Bfd)', 'Wkg Frprs Machinist', 'Chief Communications Officer', 'Youth Fund Manager', 'Environmental Asst', 'DataProgrmming&ApplicationTech', 'Supn-In Chief', 'Speech & Language Pathologist', 'Deputy Director (Budget)', 'Sub Nurse-Retiree', 'Senior Director (BASAS 12)', 'FF (EMS Coordinator)', 'Public Works Laborer', 'Dir of Recycling Programs', 'Hvy Mtr Equip Oper & P W Lbr', 'Prin Admin Analyst', 'Admin Asst (Pwd)', 'Chairperson (Elt)', 'Female FF LiaisonInstructorOff', 'Chaplain (Fire Dept)', 'FIU Supervisor Photo Unit', 'Sergeant-Bps Police', 'Drawtender##', 'Chief Bldg Admin Clerk', 'BroadbandDigitalEquityAdvocate', 'Health Para', 'Admin Asst III', 'Sen Clerk School Sec 766-13', 'Head Staff Assistant 27', 'Technology Specialist', 'Sr. Shipping&Receiving Worker', 'Supv-Payrolls', 'Police Sergeant/Pd Det Serv', 'Third Class Sta Eng (New Ch)', 'Secretary', 'Criminalist I', 'Generalist II', 'Sr Accountant', 'Before/After School Support', 'Chief Of Operations', 'Photographer', 'Supv-Budget', 'Exec Asst', 'Yth Employment Coord', 'Attorney (D)', 'Central Staff Dir (CC)', 'Maint Mech Frprs (Painter)##', 'Chief Engineer(Pwd Highway Di)', 'Vehicle Impound Specialist ##', 'Admin Sec 28', 'Staff Aide', 'Chief Traffic Invest(Cat)', 'Manager, Litigation Support', 'Admin Asst/EvidencTechncn(BPD)', 'Sr Data Proc Sys Anl I', 'Asst Pool Manager', 'Dir of Library Services', 'Archaeology Laboratory Mgr', 'Head Staff Assistant 31', 'Dir of Animal Control (ISD)', 'Developer(C)', 'Prin Clerk/School Sec 19', 'MechEquipRepairprsForeprs(PMD)', 'Small Learning Comm Leader', 'FF(FPD Place of Assembly Insp)', 'Gen Tree Maint Frprs', 'Deputy Chief', 'Young Adults Librarian I', 'Cluster Paraprofessional', 'Deputy Chief of Policy', 'IAPRO Systems Coordinator', 'Sr Legal Asst', 'Plumbing And Gasfitting Insp##', 'FirePreventionPermitTechnician', 'Community Field Coordinator', 'Collection Agent BFD FirePreve', 'Director of Research', 'FF (LEPC Title3 Insp)', 'School Disciplinary Officer', 'Commissioner', \"BPS Worker's Comp Job Class\", 'Spec Library Asst I (Branch)', 'Employee Assistance Clinician', 'Early Childhood Remote Tutor', 'Rare Books & Manuscripts Librn', 'FF (Mas Of F Boat)', 'Commissioner (Bpd)', 'Lead Satellite Attendant B', 'Spec Library Asst V (BPL)', 'Chief Claims Investigator I', 'Social Worker/Coordinator', 'Criminalist II', 'Chief of Human Services', 'Deputy Chief Financial Off (E)', 'Part-Time Cafeteria Attendant', 'Dir of Programming', 'Dep Sealer (Wts & Msrs)##', 'Coord-Manager C', 'Director (D) (non-ac)', 'Community Relations Spec(P&R)', 'Risk Finance Mgr', 'EmrgMgtTraining&ExerciseCoord', 'Outreach & Engagement Spec', 'Director (C)', 'FF (Asst Dive Mast)', 'Criminalist IV', 'Cluster Substitute ES', 'Fire Captain Administration', 'Sr Fire Alarm Operator', 'Police Offc Ballistician 4$10', 'Data Proc Sys Analyst 1', 'Police Offc/Bomb Squad', 'Fire Fighter', 'Curator-Professional Lib IV', 'Communications Director', 'Landscape Designer (P&R)', 'Compliance Monitor(Red Cirle)', 'Reader & Info Librarian III', 'Fire Captain-Technician', 'Nurse Specialist', 'Dep Supn (Bpd)', 'Sr Computer Operator', 'Chief Diversity Officer', 'Special Library Asst IV', 'Chief of Office of Emrgcy Mmgt', 'Manager of Online Web Serv', 'Supn-Park Maint', 'Sen Clerk-School Secretary 15', 'HvyMtrEquipReprprs(HMER/Parks)', 'Animal Room Attendant', 'Contract Manager (PFD)', 'Coordinator (BTU)', 'Building Asst', 'STC(SecuringtheCity)ProgDirBPD', 'Chief Digital Officer', 'First  Asst Drawtender##', 'Chief Technology Officer', 'Reasearch & Development Anl', 'Board Members (Examiners)', 'PoliceSergeant/SupvCourtCases', 'Jr Specialist (BTU)', 'Fellow (Environment)', 'Supn of Police Building', 'Advocacy &Benefits Coordinator', 'Trans Program Planner III', 'EmrgncyCommSpec-SupportAnalyst', 'Spec Asst', 'Project Manager (C)', 'Special Assistant (DND)', 'Sr Business Manager', 'Supn-Custodians (Buildings)', 'Mtr Eq Rpprs ClassIBPDFleetBFD', 'Mgr of the Central Libray', 'HR Customer Service Rep', 'Dir of Asset Management', 'Office Operations Mgr (Budget)', 'Substitute Teacher HE', 'Project Dir', 'Sr Facility Mgr-Maint & Trades', 'Outreach&EngagemntSpc(Elderly)', 'FF(IncidentCommandSpec)DFC-Tec', 'Admin Asst (PFD)', 'Web Services Librarian', 'Payroll Customer Service Rep', 'Spec Library Asst II', 'Health Benefits Insurance Rep', 'Director (E)', 'Project Mngr III', 'Dep CTO(ChiefTechnology Offcr)', 'Administrative Assistant', 'Dir-EconomicDevelopmentPolicy', 'Claims Investigator(Opc)', 'Lead Archivist', 'FF(SOCBestTeam)-AdvTechnician', 'Head Acct Clerk 33', 'Hearings Employee', 'Supv Mtr Equip Rpprs (BPD)', 'Exec Dir, Bos Con Comm Fld Mng', 'Asst Supv Custodians', 'Sr Project Manager (DND)', 'Spec Library Asst III', 'Part Time Service Specialist', 'Admin Anl', 'Asst Events Coord', 'Dist Fire Chief', 'Data Proc Proj Mgr (Asn Svc)', 'FIU Armorer', 'Technician (C)', 'Research Analyst (Asn)', 'Teen Central Team Leader', 'Prin Admin Asst (Pwd)', 'Prin Health Inspector', 'Adult Ed-Tchr/Asst', 'Leave of Absence Specialist', 'Construction Supervisor', 'Workers Comp Job Classificatn', 'Adm Dir of Communications', 'Chief Communications Offcr', 'Frpr-Lineperson&Cable Splicers', 'Archival Center Supervisor', 'Supv Of Plumbing & Gas Insp', 'Hot Line Worker HE', 'Police Offc Hackney Invest 3$8', 'Facillities Administrator', 'FF Master of the Fire Boat-ADR', 'Commissioner Elderly Affairs', 'Signalperson-Electrician', 'Hvy Mtr Equip Repprs (CFM)##', 'Sr Neigh Business Mgr', 'Legal Asst (ISD)', 'Property Manager', 'Dir of Health & Wellness', 'Dep Collector', 'Staff Asst IV', 'Sr Bldg Custodian (BPD)##', 'Job Placement Specialist', 'Summer Youth Worker', 'Behavioral Health Manager', 'Sr Assessing Draftsperson', 'Asst Corp Counsel III (LAW)', 'Archaeologist (Envrnmntl Dept)', 'Public Information Officer', 'Tax Title Supv (Trs/Col)', 'First AsstCorporationCounsels', 'Painter', 'Asst Dir (DND)', 'Senior Director (BASAS 12B)', 'Asst Prin accountant', 'Sr Civil Engineer', 'Jr. Coordinator B', 'Manager (C) (non-ac)', 'Corporate Events Coord', \"Children's Serv Libr Asst II\", 'Maint Worker/Custodian', 'Adm Dir of Constituen Services', 'Supn Auto Maint(Bpdfleet)', 'Radio Repairperson (Bfd)', 'Member-Bd Of Election', 'Sr Admin Asst (Shift Supv)', 'Supvising Traffic Engineer', 'Legal Secretary (OLR)', 'Paralegal (LAW)', 'Wkg Frpr Linepr & Cablesplicer', 'Deputy Chief of Administration', 'Deputy Chief (Non-Acad)(E)', 'Specialist B (Non-Acad)', 'Licensing Investigator II', 'Principal Elementary', 'Sr Investigator', 'Prin Clerk/School Sec 21', 'Dir', 'Parking Meter Technology Specl', 'Sen Analyst(C)', 'Dir Human Resources Assessing', 'First Asst City Registrar', 'Head Admin Clerk', 'Manager 12', 'Academy Leader', 'Fire Lieutenant Admin-ADR', 'Admin Asst (Gser Sec Hwy Pwd)', 'Director (D)', 'Chief Data Officer', 'Service Writer', 'MtrEquipRpprClassIIBPDFleetBFD', 'Guidance Advisor(1)', 'Supv Of Circulation & Shelving', 'Dir - Investigations', 'Mechanic Manager', 'Exec Sec    (Int)', 'Regional Planner', 'Asst Corp Counsel I (Law)', 'Body Person', 'Asst Supn (Bfd/Fad)', 'Scheduling Manager', 'Office/Payroll Clerk', 'Temporary Mayoral  Staff', 'Executive Director', 'Revenue Manager (OBM)', 'Assoc Dir (EAP)', 'Hvy Mtr Equip Repairperson BFD', 'Director, Scheduling', 'Safety & Stewardship Prog Mngr', 'Supn-Automotive Maint(Cfm)', 'Employee Development Asst(Ems)', 'Facilities Custodial Foreprs', 'Paver##', 'Sr Personnel Officer II', 'Motor Equip Rep Frpr I (CFM)##', 'Sr Program Manager', 'Sr Clerk - School Secretary 19', 'WkgFrprsMech', 'Sr Highway Maint CrftsprsPwd##', 'Head Account Clerk', 'Sr Parking Meter Supervisor I', 'Program Monitor', 'Maint Mech (Painter-Bpd)', 'Staff Asst (A)', 'Instructional Coach', 'Manager NonAcad C', 'Sr Radio Communications Tech', 'Maint Mech(LightSvcRpr)(Pwd)##', 'Dir of Finance & Procurement', 'Contract Manager', 'Sen Tech - Energy', 'Golf Course Operations Mgr', 'Unit Leader (C)', 'Operations Manager(RetiremeBd)', 'Coordinator 4', 'Motor Equip Oper & Lbr', 'Chief Coordinator Planner', 'Manager of Shared Services', 'Asst Prin Accountant', 'Asst Director (C)', 'Dep Commissioner of Operations', 'Housing Inspector', 'Sr Shift Supervisor', 'Radio Supv (Bpd)', 'Life Technology Industry Mgr', 'Maint Mech (Carpenter)##', 'Laborer Seasonal (Parks)', 'Chief Telephone Operator', 'Sen Cust C', 'Senior Deputy Superintendent', 'Fusion Center Coordinator', 'Maint Mech Frprs (Plumber)##', 'Shipping & Receiving Worker', 'Programs Librarian', 'Customer Service Rep(A)', 'Human Resources HRIS Manager', 'Surround Care Cluster Para', 'Supn of Buildings & Briges', 'Technical Manager', 'FF (Training Instruc)', 'Dog Offcr(Supv/Anim Cntl Ofcr)', 'Police Offc Canine Offc 2$6', 'Coordinator (Basas 4B)', 'Sr Review Architect (PFD)', 'Program Director (BASAS 11B)', 'Asst City Clerk', 'Recreation Rscr Dvlpmnt Mangr', 'Highway Maint Inspector##', 'FF Paid Detail Officer', 'Sr Asst Registrar Of Voters', 'Dir CCE', 'Dep Dir', 'Deputy Press Secretary', 'Prin Admin Asst (Treas/Treas)', 'Sen Computer Repair Technician', 'Manager-Marketing&Vistors Srvc', 'Dir of Special Events', 'Policy Advisor', 'BNBL Summer Program Director', 'Exec Asst (Law/Adm.)', 'FF (FPDInspLevl1Certification)', 'Senior Counsel', 'Chief Supv Htg &Ventilation', 'Prin Admin Asst(Btd)', 'Lab Informatioin Mgmt Admn BPD', 'Training Coordinator', 'Fleet Manager', 'Sr Engineering Aid', 'Deputy Superintendent-(non-ac)', 'Building Systems Engineer(PMD)', 'Fam & Comm Outreach Coord', 'Director (E) (non-ac)', 'Housing Crisis Case Coord', 'Fire Captain Admin-ADR', 'Operations Director', 'Retirees', 'Diversity Officer', 'Wire Inspector', 'Sr Library Asst', 'Pupil Adjustment Counselor(1)', 'District Fire Chief-Technician', 'Asst Supn-Collection&Disposal', 'Data Proc Equip Tech (Ele)', 'Sr Research Analyst (Asn)', 'Cataloger And Classifier II', 'Sum Sch - Clerical', 'Mech Equip Repairperson', 'Asst Corp Counsel IV (LAW)', 'Supv Struct Engr', 'Elderly Service Worker', 'Sen Coordinator/Planner', 'Student Services Coordinator', 'FIU Digital Lab Supervisor', 'Chief Deputy Sealer Wts&Msrs##', 'Code Enforce Inspector(Isd)', 'HRIS Specialist', 'Occupational Therapist', 'Consulting Teacher', 'SpcProj/RecordMangmntAsst', 'Dep Administrator', 'Asst Assessor', 'Office Assistant', 'Traffic Signal Repairprs##', 'Asst Reg Voters', 'Head Clerk', 'Supv-Street Lighting (Pwd)', 'Prin Account Clerk 27', 'General Counsel (LAW)', 'Branch Librarian', 'Lead Sign Language Interpreter', 'Head Golf Professional', 'Sen Prog Dir 12 (non-ac)', 'Unit Leader (D)', 'Secretary II', 'Building Maint Supv', 'Attendant', 'Parking Meter Oper Frprs##', 'Master Gen Maint Mech Forepr', 'Prin Accountant', 'Liaison Agent II', 'Asst Assessor (Trainee II)', 'Business Operations Mgr', 'Dir/OfficeofResearch&DeveloBPD', 'Director', 'Staff Asst (B)', 'Legal Secretary', 'District Fire Chief-ADR', 'Admin Asst (Cc)', 'Program Director Basas 11', 'Lead Teacher', 'BusinessOperationsDataAnalyst', 'Dep Dir (Capital)', 'Park Keeper', 'Environmental Technician', 'Behavioral Health Director', 'Dir of Asset & Prog Strategy', 'Traffic Signal Supv', 'Asst Director C', 'Exec Asst (BPD)', 'Payroll Supervisor', 'Director E ACAD', 'Coordinator (C)', 'Clerk of Works II (PFD)', 'Buyer 31', 'Chief of Support Services', 'Dir Human Resources', 'Utility Inspector', 'Archaeologist I', 'ComplianceDir&StaffCounsel(CC)', 'Chief of Adult Library Servcs', 'Business Agent', 'Legal Asst (BPD)', 'Elementary Superintendent(F)', 'ESL Instructor', 'Counselor (CC)', 'Commissioner (Asn)', 'Director (BASAS 11B)', 'SpecAssttoChiefofHumanServices', 'Cab Monitor HE', 'Major Projects Coord', 'Tape Librarian(Oper/Bpd)', 'Chief of Field Services', 'Sr General Tree Maintenance', 'Highway Const Inspector(Pwd)##', 'Fire Lieutenant (Scuba Diver)', 'State Government Liasion', 'MgrClassification&Compensation', 'Manager (D)', 'Cataloger And Classifier I', 'Public Works Hokey', 'Coordinator 7', 'MaintMechFrpr(PMD/GraffRemoval', 'GED Tester', 'Talent Acquisition Coord', 'Service Delivery Mgr(SOAR BCY)', 'Dir-Forensic Quality Control', 'Asst Buyer', 'Manager of Content Discovery', 'Head Admin Clerk-31', 'Transportation Officer', 'Management Analyst (Asd/Admin)', 'Nurse RN (CC)', 'Rotc Instructor', 'Recyle Oper 12', 'Chief Supv Of I/M - Alarms', 'Communications Coordinator-OHR', 'Fire Fighter-AdvanceTechnician', 'Supn Highway Maintenance', 'Wkg Frprs Oper/Labor BPL', 'Supv-Sanitation (Pwd)', 'Board Secretary (Parks Comm.)', 'Staff Asst (Administration)', 'Trans Prog Planner V(Transp)', 'Chief Bldg Inspector##', 'Director D (ACAD)', 'Program Asst', 'SpEd Support Svcs Supervisor', 'Board Member(Ret)', 'Golf Course Asst Supn', 'Liaison Agent (BPD)', 'Project Asst', 'Digital Repository DevOps Eng', 'Asst Dir Housing Inspection', 'Office Manager', 'Communications Manager', 'Summer  CFC (BTU)', 'FF (Constituent Liaison Off)', 'Program Director (Basas 9)', 'Sen Cust C/Nights', 'Teacher I', 'Dep City Auditor', 'Neigh Business Manager', 'Part-Time Custodian', 'Gen Maint Mech', 'Community Services Offc', 'Athletic Director', 'Gen Main Mech Frprs(Cfm)##', 'Data Proc Equip Tech', 'Asst Dir BPD Neigh Crime Watch', 'Fire Lieutenant-ADR', 'Personnel Asst', 'Chief', 'Paraprofessional', 'Program Director', 'Asst Exec Off-Retirement Board', 'Service Representative', 'Asst Principal Elementary', 'Maint Mech Frprs (Welder)', 'Comm Connections Fac', 'Chief of Economic Development', 'Prin Storekeeper 23', 'Dir of Information Systems', 'Assoc Deputy Director', 'Asst Superintendent', 'Police Offc Comm Serv Offc 3$8', 'Supn (Bfd/Fad)', 'Fire Lieutenant-AdvanceTech', 'Asst Corp Counsel V (LAW)', 'Utilities Permitting Agent', 'Manager of Youth Services', 'Sr Admin Asst (Admin Br)', 'Evidence Technician Supervisor', 'Digital Associate', 'SrLegislativAsst&BudgetAnl(CC)', 'Director of Technical Services', 'Coordinator C', 'Public Relations Rep(Bpd)', 'Motor Equip Rep Frpr (CFM)##', 'Staff Assistant C', 'Head Account Clk 31', 'Prin Clerk/School Sec 28', 'Director Of Instruction', 'Adults Librarian II', 'FF (Auto Arson Unit)', 'Resource Coordinator (BCYF)', 'Sen Cust D', 'Police Lieut (Det)', 'Asst Commss of Housing', 'Civic Engagement Coord', 'Dir Bldg & Structure Div', 'Dir-Transportation (BFD)', 'Assistant Director (OBM)', 'Student Registration Spec (B)', 'Police Lieutenant/Mobile Oper', 'Assoc Electrical Engineer', 'Sr Account Specialist', 'Sr Admin Asst', 'Head Asst Registrar of Voters', 'Exec Asst(Office Manager)', 'Burial Agent', 'Bldg Services Material Dis Mg', 'Admin Anl (AsArchivCity/Clrk)', 'Sr Fire Alarm Oper (Train Ofc)', 'Sr Legal Asst (Isd)', 'Dir of Operations', 'Sr Admin Anl', 'Coord-Manager (C)', 'Applications Technical Support', 'Sr. Disability Representative', 'Finance Manager', 'Cafeteria Manager16', 'Chief Electrical Engineer', 'Cab Monitor', 'Motor Equip Repprs ClassIIIBPD', 'Sr Clerk', 'Collections Security Mgr', 'ResearchSpcl(Media&Journalism', 'Housing Development Offcr', 'Construction Specialist II', 'Chief Accountability Officer(F', 'Editor/Sr Citizen Newspaper', 'HdOfBibliographicServMetrBLNet', 'Electrical Equip Repairprs##', 'Mech Equip Repairprs Foreprs', 'Sen Clerk', 'Sr Project Coordinator', 'Purchasing Agent (Ads/Pud)', 'Asst Comm Bldg&Structure Div', 'Logistics Specialist', 'Deputy Chief Academic Officer', 'Asst Neighborhood Services Mgr', 'Childrens Librarian II', 'Police Sergeant/Bomb Squad', 'Generalist I', 'Police Offc Bomb Squad', 'Building Maint Supv##', 'Prin Clerk Typist 19', 'Billing Specialist (HBI)', 'Library Social Worker', 'Cash Management Auditor', 'Collection Service Manager', 'Fire Prev Supv(Fire Prot Eng)', 'Sr Bldg Custodian-Traveling', 'Sen Sup Sch Bldgs Heating&Ven', 'Chief Environmental Technician', 'TelevisionOperation&TechgMangr', 'Buyer/Purchasing', 'Benefits HRIS Manager', 'Chief of Collections', 'Chief Power Plant Eng', 'Sr Traffic Investigator', 'Police Offc Canine 2$6', 'Research analyst (P&R)', 'DeputyChiefHumanCapitalOff(E)', 'Dir of Food Initiative', 'Sr Traffic Main Prs(Sign Fab)', 'Dep Comm-Labor & Legal', 'Business Manager (CC)', 'One to One Para', 'SpEd Support Svcs Coordinator', 'Sub Lunch Monitor', 'Business Analyst-H.R.', 'Interpreter', 'Head Account Clk 32', 'Board Secretary', 'Police Offc/Hosp Liaison 4$10', 'Director (Basas 10B)', 'Clerk', 'Sr Research Analyst (Parks&Rec', 'Parking Meter Opr Person I##', 'Offset Compositor', 'Operational Leader', 'Production/Stage Manager', 'Asst Director (D) (non ac)', 'Sr Cataloger & Classifier', 'Dispatcher', 'Asst Supv-Parking Enforcement', 'FF (FPDInspLevl1Certfctn)-ADR', 'Principal Fellow', 'Dir of Human Resources (BPD)', 'City Councilor', 'Program Dir', 'Ombudsperson', 'Jr Cust/Nights', 'Head Clerk & Secretary', 'Fire Lieutenant', 'Clms/AffirmativeRecovery Sr An', 'Executive Director E (NonAcad)', 'Jr Technician (B)', 'Admin Asst (Retirement)', 'Community Learning Supv', 'Prin Account Clerk 31', 'Paralegal (C)', 'Prin Clerk & Typist', 'Staff Officer-Special Projects', 'Admin  Asst', 'Construction Manager', 'Floater Librarian I', 'Building Services Fleet Mgr', 'Assoc Inspec Engineer (Fire)', 'Research Assist (Bpd)', 'Branch Librarian II', 'Commissioner (Rpd)', 'Hvy Mtr Equip Repairpr Class I', 'Dir of Outreach & Engagement', 'Jr Coordinator (B)', 'Admin Asst (Finance)', 'Security Supv (Prot Serv)', 'District Fire Chief Admin-ADR', 'Asst Principal Middle', 'Asst Commissioner of Health', 'Program Assistant II', 'Office Manager II', 'Finance Manager, Energy', 'Dep Dir of Human Resources BPD', 'Fire Lieutenant-Technician', 'Chief Sup-Sch Bdg Plg&Gas Ftng', 'Family Liaison BTU', 'Sen Supv-Sch Bld Plmg & Gsftg', 'Youth & Schools Director', 'Police Offc/Auto Invest 4$10', 'Police Lieutenant (Det)', 'Prin Clerk/School Sec 21E', 'Head Staff Assistant 28', 'Admin Manager', 'Teen Technology Coord', 'Adm Dir for Transportation', 'Clinical Coordinator', 'Coord', 'Staff Asst I', 'Maint Mech Helper##', 'Buyer', '121A Manager, BOR', 'Laborer', 'Surround Care Paraprofessional', 'Chief Sup-Sch Bdg/Al & Rep', 'Frprs Electrical Equip Rprprs', 'Lifeguard II', 'FF Master Fire Boat ScubaDiver', 'Traffic Engineering Director', 'Respite Care Companion', 'FF (Divemaster)', 'Spec Hvy Meo', 'Sr Preservation Planner', 'Police Offc Acad Instr 2$6', 'Wkg Frprs Elec Equip Repairprs', 'Division Engineer', 'Program Assistant I', 'Lead Evaluate/Prjct Mgr (BFD)', 'Support Desk Specialist', 'Manager of Budget & Finance', 'Exec Asst (Parks & Rec)', 'Facilities Manager', 'Police Clerk And Typist', 'Coordinator 9', 'Fire Captain-AdvanceTechnician', 'Dir of Legal Unit', 'Prin Clerk/School Sec 17', 'Sergeant/Harbor Patrol', 'Mask Repair Specialist', 'Guidance Counselor(1)', 'Maint Mech (Millwright)##', 'Program Director (Basas 9A)', 'Sen Clerk School Sec 766-15B', 'Special Assistant', 'Coach (TPP)', 'Sr Data Proc Sys Anl (ASD/DPU)', 'Asst Program Director (7)', 'Project Manager II (PFD)', 'Exec Sec (B.P.D.)', 'Second Asst Coll-Trs (Trs/Col)', 'Asst City Registrar', 'Computer Instructor', 'Golf Course Superintendent', 'Web Services Specialist', 'Dir-Publicity', 'Supv-Asst Assessors', 'Exec Sec  (P&R Comm Office)', 'Admin Asst (Law-General Svcs)', 'MaintMechaFrprs(Machi/Parks)', 'Distance Learning Coord ARRA', 'FF (Scuba Diver)', 'Board Member (Stipend)', 'Fleet Operations Mgr', 'Statewide Metadata Coordinator', 'Park Ranger II', 'Prin Traffic Investigator', 'Chief Engagement Officer(F)', 'Business Manager D', 'Operations Manager', 'Mobile Device Technician', 'Code Enforce Offc', 'Chief Enterprise Applications', 'Sr Personnel Office', 'Public Facillities Comms Secr', 'Manager', 'Coach (NonTPP)', 'Area Supv of Street Operations', 'Veterinary Medical Director', 'Admin Asst (Parks/Finance)', 'Exec Asst (Asn)', 'Coord-Manager (D)', 'Head Lifeguard', 'Advance Coordinator', 'FF (Juvenile F5 Program)', 'Asst Dir', 'RegionalEmergencyMgmntPlanner', 'Director E Non Acad', 'Sr Outrch & Engmnt Coord (BCYF', 'Coord-Manager (B)', 'Assoc Civil Engineer', 'Building Inspector##', 'Human Resources Representative', 'Director of Communications', 'Strategy & Oprs Mgr(SOAR BCYF)', 'Coordinator I', 'Asst Headmaster', 'Manager (C)', 'Exec Asst (Mgmt Info Svcs)', 'Gen Frprs-Fire Alarm Construct', 'Intern 3', 'Dep Fire Chief', 'Asst Supn-Custodians (Oper)', 'Reference Librarian II', 'Prin Clerk/School Sec 26', 'Management Analyst', 'Deposition Clerk', 'Yth Educational Outreach Coord', 'FF (FPD Special Hazards Insp)', 'Executive Coordinator', 'Administrator', 'Asst Corp Counsel II (LAW)', 'Sr Buyer', 'Communic. EquipOp II 9II(SS)', 'Gen Park Maint Frprs', 'Licensing Manager', 'Teacher', 'Exec Asst (Pmd/Bldgs)', 'Maint MechI(LightSrvRep/Pwd)##', 'Sen Sup School Bldgs Alt&Rep', 'Special Advisor', 'FF (NFIRS Program Manager)', 'Manager of Research & Dev', 'Police Sergeant/Comm Serv Offc', 'Youth Outreach Coord', 'EAP Counselor', 'Head Accountant', 'Commissioner (BFD)', 'Dir-Crimalistic Services(Bpd)', 'Prin Asst Registrar Of Voters', 'Technical Support Associate', 'Dep Dir of Special Events', 'Dep Commissioner of Finance'}\n",
      "1507 titles\n"
     ]
    }
   ],
   "source": [
    "print(set(temp_earnings21['TITLE']))\n",
    "print(f\"{len(set(temp_earnings21['TITLE']))} titles\")"
   ]
  },
  {
   "cell_type": "markdown",
   "id": "4204d33c",
   "metadata": {},
   "source": [
    "## Check overtime frequency by person\n",
    "\n",
    "### 1 row per 1 overtime record"
   ]
  },
  {
   "cell_type": "code",
   "execution_count": 74,
   "id": "e8c56c2b",
   "metadata": {},
   "outputs": [
    {
     "name": "stdout",
     "output_type": "stream",
     "text": [
      "1334 employees submitted 70487 overtime requests\n"
     ]
    }
   ],
   "source": [
    "print(f\"{len(temp_overtime21['Emp. ID'].unique())} employees submitted {temp_overtime21.shape[0]} overtime requests\")"
   ]
  },
  {
   "cell_type": "code",
   "execution_count": 75,
   "id": "39b4a3ed",
   "metadata": {
    "scrolled": true
   },
   "outputs": [
    {
     "data": {
      "text/plain": [
       "Text(0.5, 1.0, 'Dist of overtime frequency')"
      ]
     },
     "execution_count": 75,
     "metadata": {},
     "output_type": "execute_result"
    },
    {
     "data": {
      "image/png": "[encoded data removed]",
      "text/plain": [
       "<Figure size 432x288 with 1 Axes>"
      ]
     },
     "metadata": {
      "needs_background": "light"
     },
     "output_type": "display_data"
    }
   ],
   "source": [
    "temp_overtime21['OVERTIME_FREQ'] = temp_overtime21.groupby(['Emp. ID'])['Emp. ID'].count()\n",
    "plt.hist(temp_overtime21['OVERTIME_FREQ'])\n",
    "plt.title('Dist of overtime frequency')"
   ]
  },
  {
   "cell_type": "code",
   "execution_count": 76,
   "id": "0bb39a5b",
   "metadata": {},
   "outputs": [
    {
     "name": "stdout",
     "output_type": "stream",
     "text": [
      "Employees with 25+ overtime request is 15.52%\n",
      "Employees with 50+ overtime request is 11.24%\n",
      "Employees with 100+ overtime request is 7.05%\n",
      "Employees with 150+ overtime request is 3.75%\n",
      "Employees with 200+ overtime request is 1.35%\n"
     ]
    }
   ],
   "source": [
    "overtime_freq_list = [25, 50, 100, 150, 200]\n",
    "\n",
    "for i in overtime_freq_list:\n",
    "    total_cnt = len(temp_overtime21['Emp. ID'].unique())\n",
    "    temp = temp_overtime21[temp_overtime21['OVERTIME_FREQ']>=i]\n",
    "    ovetime_cnt = len(temp['Emp. ID'].unique())\n",
    "    print(f\"Employees with {i}+ overtime request is {round(ovetime_cnt / total_cnt * 100, 2)}%\")"
   ]
  },
  {
   "cell_type": "markdown",
   "id": "5a668072",
   "metadata": {},
   "source": [
    "## Overtime request frequency by rank \n",
    "#### pretty meaningless"
   ]
  },
  {
   "cell_type": "code",
   "execution_count": 16,
   "id": "3cfca722",
   "metadata": {
    "scrolled": true
   },
   "outputs": [
    {
     "data": {
      "text/plain": [
       "(array([1., 3., 0., 0., 0., 0., 0., 0., 0., 1.]),\n",
       " array([ 10. ,  23.1,  36.2,  49.3,  62.4,  75.5,  88.6, 101.7, 114.8,\n",
       "        127.9, 141. ]),\n",
       " <BarContainer object of 10 artists>)"
      ]
     },
     "execution_count": 16,
     "metadata": {},
     "output_type": "execute_result"
    },
    {
     "data": {
      "image/png": "[encoded data removed]",
      "text/plain": [
       "<Figure size 432x288 with 1 Axes>"
      ]
     },
     "metadata": {
      "needs_background": "light"
     },
     "output_type": "display_data"
    }
   ],
   "source": [
    "plt.hist(overtime21[overtime21['Rank']==3]['OVERTIME_FREQ'])"
   ]
  },
  {
   "cell_type": "markdown",
   "id": "e8542b4f",
   "metadata": {},
   "source": [
    "### Rank==4 data isn't working"
   ]
  },
  {
   "cell_type": "code",
   "execution_count": 17,
   "id": "0446e4da",
   "metadata": {
    "scrolled": true
   },
   "outputs": [
    {
     "data": {
      "text/plain": [
       "(array([3., 3., 0., 2., 0., 0., 0., 0., 0., 1.]),\n",
       " array([  1. ,  16.3,  31.6,  46.9,  62.2,  77.5,  92.8, 108.1, 123.4,\n",
       "        138.7, 154. ]),\n",
       " <BarContainer object of 10 artists>)"
      ]
     },
     "execution_count": 17,
     "metadata": {},
     "output_type": "execute_result"
    },
    {
     "data": {
      "image/png": "[encoded data removed]",
      "text/plain": [
       "<Figure size 432x288 with 1 Axes>"
      ]
     },
     "metadata": {
      "needs_background": "light"
     },
     "output_type": "display_data"
    }
   ],
   "source": [
    "plt.hist(overtime21[overtime21['Rank']==5]['OVERTIME_FREQ'])"
   ]
  },
  {
   "cell_type": "code",
   "execution_count": 18,
   "id": "fd730e75",
   "metadata": {
    "scrolled": true
   },
   "outputs": [
    {
     "data": {
      "text/plain": [
       "(array([3., 2., 0., 1., 0., 0., 0., 0., 0., 1.]),\n",
       " array([  1. ,  15.8,  30.6,  45.4,  60.2,  75. ,  89.8, 104.6, 119.4,\n",
       "        134.2, 149. ]),\n",
       " <BarContainer object of 10 artists>)"
      ]
     },
     "execution_count": 18,
     "metadata": {},
     "output_type": "execute_result"
    },
    {
     "data": {
      "image/png": "[encoded data removed]",
      "text/plain": [
       "<Figure size 432x288 with 1 Axes>"
      ]
     },
     "metadata": {
      "needs_background": "light"
     },
     "output_type": "display_data"
    }
   ],
   "source": [
    "plt.hist(overtime21[overtime21['Rank']==6]['OVERTIME_FREQ'])"
   ]
  },
  {
   "cell_type": "code",
   "execution_count": 19,
   "id": "68eac2b2",
   "metadata": {
    "scrolled": true
   },
   "outputs": [
    {
     "data": {
      "text/plain": [
       "(array([12.,  6.,  2.,  1.,  1.,  1.,  2.,  1.,  2.,  2.]),\n",
       " array([  1. ,  22.4,  43.8,  65.2,  86.6, 108. , 129.4, 150.8, 172.2,\n",
       "        193.6, 215. ]),\n",
       " <BarContainer object of 10 artists>)"
      ]
     },
     "execution_count": 19,
     "metadata": {},
     "output_type": "execute_result"
    },
    {
     "data": {
      "image/png": "[encoded data removed]",
      "text/plain": [
       "<Figure size 432x288 with 1 Axes>"
      ]
     },
     "metadata": {
      "needs_background": "light"
     },
     "output_type": "display_data"
    }
   ],
   "source": [
    "plt.hist(overtime21[overtime21['Rank']==7]['OVERTIME_FREQ'])"
   ]
  },
  {
   "cell_type": "code",
   "execution_count": 20,
   "id": "b02cdacf",
   "metadata": {
    "scrolled": true
   },
   "outputs": [
    {
     "data": {
      "text/plain": [
       "(array([12.,  4.,  1.,  2.,  4.,  0.,  1.,  0.,  2.,  2.]),\n",
       " array([  1.,  20.,  39.,  58.,  77.,  96., 115., 134., 153., 172., 191.]),\n",
       " <BarContainer object of 10 artists>)"
      ]
     },
     "execution_count": 20,
     "metadata": {},
     "output_type": "execute_result"
    },
    {
     "data": {
      "image/png": "[encoded data removed]",
      "text/plain": [
       "<Figure size 432x288 with 1 Axes>"
      ]
     },
     "metadata": {
      "needs_background": "light"
     },
     "output_type": "display_data"
    }
   ],
   "source": [
    "plt.hist(overtime21[overtime21['Rank']==8]['OVERTIME_FREQ'])"
   ]
  },
  {
   "cell_type": "code",
   "execution_count": 21,
   "id": "269dfc96",
   "metadata": {
    "scrolled": true
   },
   "outputs": [
    {
     "data": {
      "text/plain": [
       "(array([212.,  64.,  49.,  29.,  26.,  14.,   3.,   7.,   3.,   2.]),\n",
       " array([  1. ,  34.8,  68.6, 102.4, 136.2, 170. , 203.8, 237.6, 271.4,\n",
       "        305.2, 339. ]),\n",
       " <BarContainer object of 10 artists>)"
      ]
     },
     "execution_count": 21,
     "metadata": {},
     "output_type": "execute_result"
    },
    {
     "data": {
      "image/png": "[encoded data removed]",
      "text/plain": [
       "<Figure size 432x288 with 1 Axes>"
      ]
     },
     "metadata": {
      "needs_background": "light"
     },
     "output_type": "display_data"
    }
   ],
   "source": [
    "plt.hist(overtime21[overtime21['Rank']==9]['OVERTIME_FREQ'])"
   ]
  },
  {
   "cell_type": "markdown",
   "id": "c70833f5",
   "metadata": {},
   "source": [
    "### What is overtime code(OTCODE) & OTHOURS?\n",
    "### Relationship between OTHOURS and WRKDHRS?"
   ]
  },
  {
   "cell_type": "code",
   "execution_count": 80,
   "id": "696d2471",
   "metadata": {},
   "outputs": [
    {
     "name": "stdout",
     "output_type": "stream",
     "text": [
      "Index(['ID', 'NAME', 'RANK', 'ASSIGNED_DESC', 'CHARGED_DESC', 'OTDATE',\n",
      "       'OTCODE', 'DESCRIPTION', 'STARTTIME', 'ENDTIME', 'WRKDHRS', 'OTHOURS'],\n",
      "      dtype='object')\n",
      "       ID                NAME RANK     ASSIGNED_DESC      CHARGED_DESC  \\\n",
      "0  153088         Chen,Steven  Ptl       DISTRICT 01       DISTRICT 01   \n",
      "1   53603       Gero,Jarrod A  Det  B-2   DETECTIVES  B-2   DETECTIVES   \n",
      "2   11716    McCarthy,Peter L  Det  B-3   DETECTIVES  B-3   DETECTIVES   \n",
      "3  157666       Mejia,Karen Y  Ptl       DISTRICT 01       DISTRICT 01   \n",
      "4   12045    Merricks,Kirk D.  Ptl       DISTRICT 01       DISTRICT 01   \n",
      "5   11436  Montesino,Miguel E  Det  A-7   DETECTIVES  A-7   DETECTIVES   \n",
      "\n",
      "      OTDATE  OTCODE           DESCRIPTION  STARTTIME  ENDTIME  WRKDHRS  \\\n",
      "0 2021-01-05   281.0  COURT:CLERK MAG. HRG        900      930     0.50   \n",
      "1 2021-01-06   283.0    COURT:MOTIONS HRG.       1130     1230     1.00   \n",
      "2 2021-01-04   286.0      COURT:CASE PREP.       1600     1730     1.50   \n",
      "3 2021-01-04   281.0  COURT:CLERK MAG. HRG        900      930     0.50   \n",
      "4 2021-01-05   281.0  COURT:CLERK MAG. HRG        900      915     0.25   \n",
      "5 2021-01-06   282.0  COURT:PRETRIAL CONF.        900     1000     1.00   \n",
      "\n",
      "   OTHOURS  \n",
      "0      4.0  \n",
      "1      4.0  \n",
      "2      4.0  \n",
      "3      4.0  \n",
      "4      4.0  \n",
      "5      4.0  \n",
      "<class 'numpy.int64'>\n",
      "<class 'numpy.float64'>\n",
      "<class 'numpy.float64'>\n"
     ]
    }
   ],
   "source": [
    "print(overtime_court21.columns)\n",
    "\n",
    "print(overtime_court21.loc[:5, ['ID', 'NAME', 'RANK', 'ASSIGNED_DESC', 'CHARGED_DESC', 'OTDATE',\n",
    "       'OTCODE', 'DESCRIPTION', 'STARTTIME', 'ENDTIME', 'WRKDHRS', 'OTHOURS']])\n",
    "\n",
    "print(type(overtime_court21['STARTTIME'][0]))\n",
    "\n",
    "print(type(overtime_court21['WRKDHRS'][0]))\n",
    "\n",
    "print(type(overtime_court21['OTHOURS'][0]))"
   ]
  },
  {
   "cell_type": "code",
   "execution_count": 25,
   "id": "5b9e567d",
   "metadata": {},
   "outputs": [
    {
     "name": "stdout",
     "output_type": "stream",
     "text": [
      "    IDNO6              NAME    RANK                ASSIGNED_DESC  \\\n",
      "0   10525      Davin,John J    Capt  SPECIAL OPERATIONS DIVISION   \n",
      "1   10273     Hosein,Haseeb    Capt                  DISTRICT 03   \n",
      "2    8368   Terenzi,Phillip    Capt          OPERATIONS DIVISION   \n",
      "3  115669   Auclair,Richard  Civili           LATENT PRINTS UNIT   \n",
      "4  113177  Cardona,Veronica  Civili          OPERATIONS DIVISION   \n",
      "\n",
      "          CHARGED_DESC     OTDATE  OTCODE           DESCRIPTION  STARTTIME  \\\n",
      "0  TACTICAL OPERATIONS 2019-01-01     271            ENTRY TEAM        130   \n",
      "1          DISTRICT 03 2019-01-01     212   CRIME SCENE INVEST.        315   \n",
      "2  OPERATIONS DIVISION 2019-01-01     325  COMPLETE TOUR ASSIGN       1600   \n",
      "3   LATENT PRINTS UNIT 2019-01-01     261    ADD. WORK ASSIGNED       1700   \n",
      "4  OPERATIONS DIVISION 2019-01-01     261    ADD. WORK ASSIGNED          0   \n",
      "\n",
      "   ENDTIME  WRKDHRS  OTHOURS  \n",
      "0      600      4.5      4.5  \n",
      "1      515      2.0      4.0  \n",
      "2     1900      3.0      3.0  \n",
      "3     2000      3.0      3.0  \n",
      "4      400      4.0      4.0  \n"
     ]
    }
   ],
   "source": [
    "print(overtime_police_record.head())"
   ]
  },
  {
   "cell_type": "code",
   "execution_count": null,
   "id": "f61ab9e5",
   "metadata": {},
   "outputs": [],
   "source": []
  },
  {
   "cell_type": "markdown",
   "id": "c3a34dfd",
   "metadata": {},
   "source": [
    "# Earnings data"
   ]
  },
  {
   "cell_type": "code",
   "execution_count": 63,
   "id": "348b7ae2",
   "metadata": {},
   "outputs": [
    {
     "data": {
      "text/plain": [
       "Text(0.5, 1.0, 'Dist of overtime pay')"
      ]
     },
     "execution_count": 63,
     "metadata": {},
     "output_type": "execute_result"
    },
    {
     "data": {
      "image/png": "[encoded data removed]",
      "text/plain": [
       "<Figure size 432x288 with 1 Axes>"
      ]
     },
     "metadata": {
      "needs_background": "light"
     },
     "output_type": "display_data"
    }
   ],
   "source": [
    "import locale\n",
    "locale.setlocale( locale.LC_ALL, 'en_US.UTF-8' ) \n",
    "\n",
    "temp_earnings21 = earnings21.copy()\n",
    "\n",
    "def to_num(x):\n",
    "    if isinstance(x, str):\n",
    "        return float(x.replace(',', ''))\n",
    "    else: \n",
    "        return x\n",
    "\n",
    "temp_earnings21['OVERTIME_int'] = temp_earnings21['OVERTIME'].apply(to_num)\n",
    "\n",
    "plt.hist(temp_earnings21['OVERTIME_int'], bins=20)\n",
    "plt.title('Dist of overtime pay')"
   ]
  },
  {
   "cell_type": "code",
   "execution_count": 64,
   "id": "776c767a",
   "metadata": {},
   "outputs": [
    {
     "name": "stdout",
     "output_type": "stream",
     "text": [
      "Num of 0 is 0\n",
      "Num of 0 is 16392 out of 23204\n"
     ]
    },
    {
     "data": {
      "image/png": "[encoded data removed]",
      "text/plain": [
       "<Figure size 432x288 with 1 Axes>"
      ]
     },
     "metadata": {
      "needs_background": "light"
     },
     "output_type": "display_data"
    }
   ],
   "source": [
    "print('Num of 0 is', temp_earnings21[temp_earnings21['OVERTIME_int']==0].shape[0])\n",
    "\n",
    "temp_earnings21.loc[temp_earnings21['OVERTIME_int'].isna(), 'OVERTIME_int'] = 0\n",
    "\n",
    "print(f'Num of 0 is', temp_earnings21[temp_earnings21['OVERTIME_int']==0].shape[0], f'out of {temp_earnings21.shape[0]}')\n",
    "\n",
    "plt.hist(temp_earnings21['OVERTIME_int'], bins=20)\n",
    "plt.title('Dist of overtime pay')\n",
    "\n",
    "plt.show()"
   ]
  },
  {
   "cell_type": "code",
   "execution_count": 68,
   "id": "c091e5d4",
   "metadata": {},
   "outputs": [
    {
     "name": "stdout",
     "output_type": "stream",
     "text": [
      "Overtime pay of $5000+ is 19.76%\n",
      "Overtime pay of $10000+ is 16.35%\n",
      "Overtime pay of $25000.0+ is 9.41%\n",
      "Overtime pay of $50000+ is 3.23%\n",
      "Overtime pay of $100000+ is 0.31%\n"
     ]
    }
   ],
   "source": [
    "overtime_list = [5*10**3, 1*10**4, 2.5*10**4, 5*10**4, 1*10**5]\n",
    "\n",
    "for i in overtime_list:\n",
    "    total_cnt = temp_earnings21.shape[0]\n",
    "    ovetime_cnt = temp_earnings21[temp_earnings21['OVERTIME_int']>=i].shape[0]\n",
    "    print(f\"Overtime pay of ${i}+ is {round(ovetime_cnt / total_cnt * 100, 2)}%\")"
   ]
  },
  {
   "cell_type": "code",
   "execution_count": null,
   "id": "cb573108",
   "metadata": {},
   "outputs": [],
   "source": []
  }
 ],
 "metadata": {
  "kernelspec": {
   "display_name": "nlproberta",
   "language": "python",
   "name": "nlproberta"
  },
  "language_info": {
   "codemirror_mode": {
    "name": "ipython",
    "version": 3
   },
   "file_extension": ".py",
   "mimetype": "text/x-python",
   "name": "python",
   "nbconvert_exporter": "python",
   "pygments_lexer": "ipython3",
   "version": "3.9.7"
  }
 },
 "nbformat": 4,
 "nbformat_minor": 5
}
