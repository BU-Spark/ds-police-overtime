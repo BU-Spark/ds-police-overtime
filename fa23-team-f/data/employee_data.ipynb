import pandas as pd

# import the employee data to this python file.
filepath = "data/finalconsolidatedcy22earnings_feb2023.xlsx-sheet1.csv"
df = pd.read_csv(filepath)
df
