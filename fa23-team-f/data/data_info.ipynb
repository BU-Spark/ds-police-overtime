{
 "cells": [
  {
   "cell_type": "code",
   "execution_count": 10,
   "metadata": {},
   "outputs": [
    {
     "name": "stdout",
     "output_type": "stream",
     "text": [
      "                           NAME                 DEPARTMENT_NAME  \\\n",
      "0                Gavin,Donna M.        Boston Police Department   \n",
      "1             Cassellius,Brenda                  Superintendent   \n",
      "2                  Dempsey,John          Boston Fire Department   \n",
      "3              Demesmin,Stanley        Boston Police Department   \n",
      "4                  Smith,Sean P        Boston Police Department   \n",
      "...                         ...                             ...   \n",
      "23199  wheeler,Stephen clifford  Boston Cntr - Youth & Families   \n",
      "23200             Harris,Gloria       BPS Office Of Budget Mgmt   \n",
      "23201       Jackson,Wanita Tina        Boston Police Department   \n",
      "23202              Paul,Desmond    BPS Substitute Teachers/Nurs   \n",
      "23203         Robinson,Marvin L    BPS Substitute Teachers/Nurs   \n",
      "\n",
      "                         TITLE     REGULAR RETRO         OTHER    OVERTIME  \\\n",
      "0      Police Lieutenant (Det)   53,226.90   NaN  1,045,845.44      463.52   \n",
      "1               Superintendent  179,109.61   NaN    417,839.83         NaN   \n",
      "2           Commissioner (BFD)  133,653.78   NaN    312,752.53         NaN   \n",
      "3      Police Lieutenant (Det)  145,775.26   NaN     13,932.92  196,515.25   \n",
      "4            Police Lieutenant  142,535.62   NaN     18,827.45  142,692.38   \n",
      "...                        ...         ...   ...           ...         ...   \n",
      "23199              Lifeguard I       42.01   NaN           NaN         NaN   \n",
      "23200                Attendant       24.23   NaN           NaN         NaN   \n",
      "23201      School Traffic Supv       23.68   NaN           NaN         NaN   \n",
      "23202    Substitute Teacher HE       21.28   NaN           NaN         NaN   \n",
      "23203    Substitute Teacher HE       14.06   NaN           NaN         NaN   \n",
      "\n",
      "      INJURED     DETAIL QUINN_EDUCATION  TOTAL_ GROSS POSTAL  \n",
      "0         NaN        NaN       12,812.39  1,112,348.25  02186  \n",
      "1         NaN        NaN             NaN    596,949.44  55419  \n",
      "2         NaN        NaN             NaN    446,406.31  02152  \n",
      "3         NaN  11,880.00       29,155.26    397,258.69  02052  \n",
      "4         NaN  46,365.00       35,633.88    386,054.33  02186  \n",
      "...       ...        ...             ...           ...    ...  \n",
      "23199     NaN        NaN             NaN         42.01  02129  \n",
      "23200     NaN        NaN             NaN         24.23  02136  \n",
      "23201     NaN        NaN             NaN         23.68  02119  \n",
      "23202     NaN        NaN             NaN         21.28  02119  \n",
      "23203     NaN        NaN             NaN         14.06  02126  \n",
      "\n",
      "[23204 rows x 12 columns]\n"
     ]
    }
   ],
   "source": [
    "import pandas as pd\n",
    "import matplotlib.pyplot as plt\n",
    "filepath = '/Users/ahmadsadiq/Documents/team f/ds-police-overtime/fa23-team-f/data/finalconsolidatedcy22earnings_feb2023.xlsx-sheet1.csv'\n",
    "employee_earnings = pd.read_csv(filepath)\n",
    "print(employee_earnings)\n"
   ]
  },
  {
   "cell_type": "code",
   "execution_count": null,
   "metadata": {},
   "outputs": [],
   "source": []
  },
  {
   "cell_type": "code",
   "execution_count": 13,
   "metadata": {},
   "outputs": [
    {
     "data": {
      "text/html": [
       "<div>\n",
       "<style scoped>\n",
       "    .dataframe tbody tr th:only-of-type {\n",
       "        vertical-align: middle;\n",
       "    }\n",
       "\n",
       "    .dataframe tbody tr th {\n",
       "        vertical-align: top;\n",
       "    }\n",
       "\n",
       "    .dataframe thead th {\n",
       "        text-align: right;\n",
       "    }\n",
       "</style>\n",
       "<table border=\"1\" class=\"dataframe\">\n",
       "  <thead>\n",
       "    <tr style=\"text-align: right;\">\n",
       "      <th></th>\n",
       "      <th>NAME</th>\n",
       "      <th>DEPARTMENT_NAME</th>\n",
       "      <th>TITLE</th>\n",
       "      <th>REGULAR</th>\n",
       "      <th>RETRO</th>\n",
       "      <th>OTHER</th>\n",
       "      <th>OVERTIME</th>\n",
       "      <th>INJURED</th>\n",
       "      <th>DETAIL</th>\n",
       "      <th>QUINN_EDUCATION</th>\n",
       "      <th>TOTAL_ GROSS</th>\n",
       "      <th>POSTAL</th>\n",
       "    </tr>\n",
       "  </thead>\n",
       "  <tbody>\n",
       "    <tr>\n",
       "      <th>0</th>\n",
       "      <td>Gavin,Donna M.</td>\n",
       "      <td>Boston Police Department</td>\n",
       "      <td>Police Lieutenant (Det)</td>\n",
       "      <td>53,226.90</td>\n",
       "      <td>NaN</td>\n",
       "      <td>1,045,845.44</td>\n",
       "      <td>463.52</td>\n",
       "      <td>NaN</td>\n",
       "      <td>NaN</td>\n",
       "      <td>12,812.39</td>\n",
       "      <td>1,112,348.25</td>\n",
       "      <td>02186</td>\n",
       "    </tr>\n",
       "    <tr>\n",
       "      <th>1</th>\n",
       "      <td>Cassellius,Brenda</td>\n",
       "      <td>Superintendent</td>\n",
       "      <td>Superintendent</td>\n",
       "      <td>179,109.61</td>\n",
       "      <td>NaN</td>\n",
       "      <td>417,839.83</td>\n",
       "      <td>NaN</td>\n",
       "      <td>NaN</td>\n",
       "      <td>NaN</td>\n",
       "      <td>NaN</td>\n",
       "      <td>596,949.44</td>\n",
       "      <td>55419</td>\n",
       "    </tr>\n",
       "    <tr>\n",
       "      <th>2</th>\n",
       "      <td>Dempsey,John</td>\n",
       "      <td>Boston Fire Department</td>\n",
       "      <td>Commissioner (BFD)</td>\n",
       "      <td>133,653.78</td>\n",
       "      <td>NaN</td>\n",
       "      <td>312,752.53</td>\n",
       "      <td>NaN</td>\n",
       "      <td>NaN</td>\n",
       "      <td>NaN</td>\n",
       "      <td>NaN</td>\n",
       "      <td>446,406.31</td>\n",
       "      <td>02152</td>\n",
       "    </tr>\n",
       "    <tr>\n",
       "      <th>3</th>\n",
       "      <td>Demesmin,Stanley</td>\n",
       "      <td>Boston Police Department</td>\n",
       "      <td>Police Lieutenant (Det)</td>\n",
       "      <td>145,775.26</td>\n",
       "      <td>NaN</td>\n",
       "      <td>13,932.92</td>\n",
       "      <td>196,515.25</td>\n",
       "      <td>NaN</td>\n",
       "      <td>11,880.00</td>\n",
       "      <td>29,155.26</td>\n",
       "      <td>397,258.69</td>\n",
       "      <td>02052</td>\n",
       "    </tr>\n",
       "    <tr>\n",
       "      <th>4</th>\n",
       "      <td>Smith,Sean P</td>\n",
       "      <td>Boston Police Department</td>\n",
       "      <td>Police Lieutenant</td>\n",
       "      <td>142,535.62</td>\n",
       "      <td>NaN</td>\n",
       "      <td>18,827.45</td>\n",
       "      <td>142,692.38</td>\n",
       "      <td>NaN</td>\n",
       "      <td>46,365.00</td>\n",
       "      <td>35,633.88</td>\n",
       "      <td>386,054.33</td>\n",
       "      <td>02186</td>\n",
       "    </tr>\n",
       "  </tbody>\n",
       "</table>\n",
       "</div>"
      ],
      "text/plain": [
       "                NAME           DEPARTMENT_NAME                    TITLE  \\\n",
       "0     Gavin,Donna M.  Boston Police Department  Police Lieutenant (Det)   \n",
       "1  Cassellius,Brenda            Superintendent           Superintendent   \n",
       "2       Dempsey,John    Boston Fire Department       Commissioner (BFD)   \n",
       "3   Demesmin,Stanley  Boston Police Department  Police Lieutenant (Det)   \n",
       "4       Smith,Sean P  Boston Police Department        Police Lieutenant   \n",
       "\n",
       "      REGULAR RETRO         OTHER    OVERTIME INJURED     DETAIL  \\\n",
       "0   53,226.90   NaN  1,045,845.44      463.52     NaN        NaN   \n",
       "1  179,109.61   NaN    417,839.83         NaN     NaN        NaN   \n",
       "2  133,653.78   NaN    312,752.53         NaN     NaN        NaN   \n",
       "3  145,775.26   NaN     13,932.92  196,515.25     NaN  11,880.00   \n",
       "4  142,535.62   NaN     18,827.45  142,692.38     NaN  46,365.00   \n",
       "\n",
       "  QUINN_EDUCATION  TOTAL_ GROSS POSTAL  \n",
       "0       12,812.39  1,112,348.25  02186  \n",
       "1             NaN    596,949.44  55419  \n",
       "2             NaN    446,406.31  02152  \n",
       "3       29,155.26    397,258.69  02052  \n",
       "4       35,633.88    386,054.33  02186  "
      ]
     },
     "execution_count": 13,
     "metadata": {},
     "output_type": "execute_result"
    }
   ],
   "source": [
    "employee_earnings.head()"
   ]
  },
  {
   "cell_type": "code",
   "execution_count": 14,
   "metadata": {},
   "outputs": [
    {
     "name": "stdout",
     "output_type": "stream",
     "text": [
      "earnings21\n"
     ]
    },
    {
     "data": {
      "text/plain": [
       "NAME                   0\n",
       "DEPARTMENT_NAME        0\n",
       "TITLE                  0\n",
       "REGULAR              600\n",
       "RETRO              20112\n",
       "OTHER               7378\n",
       "OVERTIME           16392\n",
       "INJURED            21983\n",
       "DETAIL             21088\n",
       "QUINN_EDUCATION    21835\n",
       "TOTAL_ GROSS           0\n",
       "POSTAL                 0\n",
       "dtype: int64"
      ]
     },
     "execution_count": 14,
     "metadata": {},
     "output_type": "execute_result"
    }
   ],
   "source": [
    "print('earnings21')\n",
    "employee_earnings.isnull().sum()"
   ]
  },
  {
   "cell_type": "code",
   "execution_count": 15,
   "metadata": {},
   "outputs": [
    {
     "name": "stdout",
     "output_type": "stream",
     "text": [
      "there are 23203 rows with at least one empty value\n"
     ]
    }
   ],
   "source": [
    "def num_nans(employee_earnings):\n",
    "    return employee_earnings.isna().any(axis=1).sum()\n",
    "\n",
    "print(\"there are \" + str(num_nans(employee_earnings)) + \" rows with at least one empty value\")\n"
   ]
  },
  {
   "cell_type": "code",
   "execution_count": 17,
   "metadata": {},
   "outputs": [
    {
     "data": {
      "text/plain": [
       "Index(['NAME', 'DEPARTMENT_NAME', 'TITLE', 'TOTAL_ GROSS', 'POSTAL'], dtype='object')"
      ]
     },
     "execution_count": 17,
     "metadata": {},
     "output_type": "execute_result"
    }
   ],
   "source": [
    "def drop_na(employee_earnings):\n",
    "    cols = employee_earnings.columns[employee_earnings.isna().sum() > 200]\n",
    "    return employee_earnings.drop(columns=cols)\n",
    "\n",
    "employee_earnings = drop_na(employee_earnings)\n",
    "employee_earnings.columns"
   ]
  },
  {
   "cell_type": "code",
   "execution_count": null,
   "metadata": {},
   "outputs": [],
   "source": []
  }
 ],
 "metadata": {
  "kernelspec": {
   "display_name": "Python 3",
   "language": "python",
   "name": "python3"
  },
  "language_info": {
   "codemirror_mode": {
    "name": "ipython",
    "version": 3
   },
   "file_extension": ".py",
   "mimetype": "text/x-python",
   "name": "python",
   "nbconvert_exporter": "python",
   "pygments_lexer": "ipython3",
   "version": "3.11.6"
  },
  "orig_nbformat": 4
 },
 "nbformat": 4,
 "nbformat_minor": 2
}
