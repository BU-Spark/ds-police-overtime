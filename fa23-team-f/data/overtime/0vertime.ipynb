{
 "cells": [
  {
   "cell_type": "code",
   "execution_count": 11,
   "id": "initial_id",
   "metadata": {
    "collapsed": true,
    "ExecuteTime": {
     "end_time": "2023-11-14T20:27:59.303570425Z",
     "start_time": "2023-11-14T20:27:45.841291446Z"
    }
   },
   "outputs": [
    {
     "data": {
      "text/plain": "Empty DataFrame\nColumns: [Tracking_No, Emp. ID, Employee, Rank, Street, xStreet, Detail\nDate, Start\nTime, End \nTime, Hours\nWorked, Hours\nPaid, Type, Customer No., Customer, Customer Address, Customer Address 1, Customer Address 3, Customer_City, Customer_State, Customer_zip]\nIndex: []",
      "text/html": "<div>\n<style scoped>\n    .dataframe tbody tr th:only-of-type {\n        vertical-align: middle;\n    }\n\n    .dataframe tbody tr th {\n        vertical-align: top;\n    }\n\n    .dataframe thead th {\n        text-align: right;\n    }\n</style>\n<table border=\"1\" class=\"dataframe\">\n  <thead>\n    <tr style=\"text-align: right;\">\n      <th></th>\n      <th>Tracking_No</th>\n      <th>Emp. ID</th>\n      <th>Employee</th>\n      <th>Rank</th>\n      <th>Street</th>\n      <th>xStreet</th>\n      <th>Detail\\nDate</th>\n      <th>Start\\nTime</th>\n      <th>End \\nTime</th>\n      <th>Hours\\nWorked</th>\n      <th>Hours\\nPaid</th>\n      <th>Type</th>\n      <th>Customer No.</th>\n      <th>Customer</th>\n      <th>Customer Address</th>\n      <th>Customer Address 1</th>\n      <th>Customer Address 3</th>\n      <th>Customer_City</th>\n      <th>Customer_State</th>\n      <th>Customer_zip</th>\n    </tr>\n  </thead>\n  <tbody>\n  </tbody>\n</table>\n</div>"
     },
     "execution_count": 11,
     "metadata": {},
     "output_type": "execute_result"
    }
   ],
   "source": [
    "import pandas as pd\n",
    "df = pd.read_excel('2020_Details.xlsx')\n",
    "df[df[\"Employee\"] == \"BARTLETT,DORSTON\"].head()"
   ]
  },
  {
   "cell_type": "code",
   "execution_count": 13,
   "outputs": [],
   "source": [
    "df[df[\"Employee\"] == \"GARNEY,BRIAN\"].head()\n",
    "# Data Import\n",
    "overtime12 = pd.read_excel('2012_Details.xlsx')\n",
    "overtime13 = pd.read_excel('2013_Details.xlsx')\n",
    "overtime14 = pd.read_excel('2014_Details.xlsx')\n",
    "overtime15 = pd.read_excel('2015_Details.xlsx')\n",
    "overtime16 = pd.read_excel('2016_Details.xlsx')\n",
    "overtime17 = pd.read_excel('2017_Details.xlsx')\n",
    "overtime18 = pd.read_excel('2018_Details.xlsx')\n",
    "overtime19 = pd.read_excel('2019_Details.xlsx')\n",
    "overtime20 = pd.read_excel('2020_Details.xlsx')\n",
    "overtime21 = pd.read_excel('2021_Details.xlsx')\n",
    "# Counting overtime frequency\n",
    "\n",
    "# Sort data\n",
    "#overtime_freq.sort_values('overtime_count', ascending=False, inplace=True)\n",
    "# export data - 2129 employees\n",
    "#overtime_freq.to_csv('frequent overtime users.csv')"
   ],
   "metadata": {
    "collapsed": false,
    "ExecuteTime": {
     "end_time": "2023-11-14T23:14:38.531018350Z",
     "start_time": "2023-11-14T23:11:20.347327402Z"
    }
   },
   "id": "869b148dab0a0dea"
  },
  {
   "cell_type": "code",
   "execution_count": 34,
   "outputs": [],
   "source": [
    "x = [overtime12, overtime13, overtime14, overtime15, overtime16, overtime17, overtime18, overtime19, overtime20, overtime21]\n",
    "z = 2012\n",
    "for a in x:\n",
    "    a[\"year\"] = z\n",
    "    z += 1\n",
    "overtime_freq = pd.concat([overtime12, overtime13, overtime14, overtime15, overtime16, overtime17, overtime18, overtime19, overtime20, overtime21])\n",
    "#overtime_freq = overtime_freq[['Tracking_No', 'Emp. ID', 'Employee']]\n",
    "overtime_freq[\"years\"] = overtime_freq.groupby('Emp. ID')['year'].transform('nunique')\n",
    "overtime_freq['overtime_count'] = overtime_freq.groupby(['Emp. ID'])['Emp. ID'].transform('count')\n",
    "overtime_freq.drop_duplicates(subset=['Emp. ID', 'Employee'], inplace=True)\n",
    "overtime_freq[\"overtime_avg\"] = overtime_freq.apply(lambda x: x.overtime_count/x.years, axis=1)\n",
    "# Sort data\n",
    "overtime_freq.sort_values('overtime_avg', ascending=False, inplace=True)\n",
    "# export data - 2129 employees\n",
    "overtime_freq.to_csv('frequent overtime users1.csv')"
   ],
   "metadata": {
    "collapsed": false,
    "ExecuteTime": {
     "end_time": "2023-11-14T23:25:32.809566440Z",
     "start_time": "2023-11-14T23:25:31.176196319Z"
    }
   },
   "id": "d4c4ab4c79499ef8"
  }
 ],
 "metadata": {
  "kernelspec": {
   "display_name": "Python 3",
   "language": "python",
   "name": "python3"
  },
  "language_info": {
   "codemirror_mode": {
    "name": "ipython",
    "version": 2
   },
   "file_extension": ".py",
   "mimetype": "text/x-python",
   "name": "python",
   "nbconvert_exporter": "python",
   "pygments_lexer": "ipython2",
   "version": "2.7.6"
  }
 },
 "nbformat": 4,
 "nbformat_minor": 5
}
