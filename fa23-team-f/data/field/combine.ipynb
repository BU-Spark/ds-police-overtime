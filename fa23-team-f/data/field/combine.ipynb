{
 "cells": [
  {
   "cell_type": "code",
   "execution_count": 24,
   "id": "initial_id",
   "metadata": {
    "collapsed": true,
    "ExecuteTime": {
     "end_time": "2023-11-01T21:59:54.565391383Z",
     "start_time": "2023-11-01T21:59:52.492969017Z"
    }
   },
   "outputs": [
    {
     "name": "stdout",
     "output_type": "stream",
     "text": [
      "173422\n",
      "14560\n"
     ]
    },
    {
     "data": {
      "text/plain": "6     JOHN J FORD\n7     JOHN J FORD\n8     JOHN J FORD\n46    JOHN J FORD\n69    JOHN J FORD\nName: supervisor_name, dtype: object"
     },
     "execution_count": 24,
     "metadata": {},
     "output_type": "execute_result"
    },
    {
     "data": {
      "text/plain": "<Figure size 640x480 with 1 Axes>",
      "image/png": "[encoded data removed]"
     },
     "metadata": {},
     "output_type": "display_data"
    }
   ],
   "source": [
    "import pandas as pd\n",
    "import geopandas \n",
    "#import geopy\n",
    "import matplotlib as plt\n",
    "df = pd.read_csv('boston-police-department-fio.csv')\n",
    "df2 = pd.read_csv('fieldcontactforpublic2015.csv')\n",
    "df2_name = pd.read_csv('fieldcontactnameforpublic2015.csv')\n",
    "df3 = pd.read_csv('mark43_fieldcontacts_for_public_20192.csv')\n",
    "#df2.merge(df2_name, how=\"outer\", right_on=[\"fc_num\"], left_on=[\"fc_num\"])\n",
    "df2_full = pd.concat([df2, df2_name], axis=0)\n",
    "#print(df2_full.columns)\n",
    "#print(df.columns)\n",
    "#print(df2.columns)\n",
    "#print(df3.columns)\n",
    "#print(df['DESCRIPTION'])\n",
    "#print(df2_full.head(10))\n",
    "df.columns = [x.lower() for x in df.columns]\n",
    "df['location'] = df['location'].str.replace('\\d+', '')\n",
    "df = df.drop('description', axis=1)\n",
    "\n",
    "df = df.rename(columns={\"fio_id\": \"fc_num\", \"fio_date\": 'contact_date', \"clothing\": \"otherclothing\", \"veh_make\": \"vehicle_make\", \"veh_year_num\": \"vehicle_year\", \"veh_state\": \"vehicle_state\", \"fiofs_reason\": \"contact_reason\", \"race_desc\": \"race\", \"location\": \"streetaddr\", \"veh_color\": \"vehicle_color\", \"veh_color\": \"vehicle_color\", \"veh_model\": \"vehicle_model\", \"supervisor\": \"supervisor_name\", \"supervisor_id\": \"supervisor\", \"officer\": \"officer_name\", \"officer_id\": \"officer\", \"stop_reasons\": \"contact_reasons\", \"age_at_fio_corrected\": \"age\"})\n",
    "df_test = pd.concat([df, df2_full], axis=0)\n",
    "y = df_test.groupby(\"supervisor\")[\"fc_num\"].count().mean()\n",
    "z = df_test.groupby(\"supervisor\")[\"fc_num\"].count().std()\n",
    "print(len(df_test))\n",
    "print(len(df_test.groupby(\"supervisor\").filter(lambda x: len(x) > int(y) + 7.99*z)))\n",
    "df_test.groupby(\"supervisor\").filter(lambda x: len(x) > int(y) + 7.99*z)[\"supervisor\"].value_counts().plot(kind='barh')\n",
    "df_test[df_test[\"supervisor\"] == 11756][\"supervisor_name\"].head()\n"
   ]
  }
 ],
 "metadata": {
  "kernelspec": {
   "display_name": "Python 3",
   "language": "python",
   "name": "python3"
  },
  "language_info": {
   "codemirror_mode": {
    "name": "ipython",
    "version": 2
   },
   "file_extension": ".py",
   "mimetype": "text/x-python",
   "name": "python",
   "nbconvert_exporter": "python",
   "pygments_lexer": "ipython2",
   "version": "2.7.6"
  }
 },
 "nbformat": 4,
 "nbformat_minor": 5
}
