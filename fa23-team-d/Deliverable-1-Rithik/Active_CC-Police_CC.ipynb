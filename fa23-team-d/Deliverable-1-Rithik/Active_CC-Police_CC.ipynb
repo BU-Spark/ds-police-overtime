{
 "cells": [
  {
   "cell_type": "markdown",
   "id": "0b42f585",
   "metadata": {},
   "source": [
    "## Exploratory data analysis of Active_CC_Contributions.csv"
   ]
  },
  {
   "cell_type": "code",
   "execution_count": 27,
   "id": "4f9c224b",
   "metadata": {},
   "outputs": [
    {
     "data": {
      "text/html": [
       "<div>\n",
       "<style scoped>\n",
       "    .dataframe tbody tr th:only-of-type {\n",
       "        vertical-align: middle;\n",
       "    }\n",
       "\n",
       "    .dataframe tbody tr th {\n",
       "        vertical-align: top;\n",
       "    }\n",
       "\n",
       "    .dataframe thead th {\n",
       "        text-align: right;\n",
       "    }\n",
       "</style>\n",
       "<table border=\"1\" class=\"dataframe\">\n",
       "  <thead>\n",
       "    <tr style=\"text-align: right;\">\n",
       "      <th></th>\n",
       "      <th>Date</th>\n",
       "      <th>Contributor</th>\n",
       "      <th>Address</th>\n",
       "      <th>City</th>\n",
       "      <th>State</th>\n",
       "      <th>Zip</th>\n",
       "      <th>Occupation</th>\n",
       "      <th>Employer</th>\n",
       "      <th>Principal Officer</th>\n",
       "      <th>Amount</th>\n",
       "      <th>CPF ID</th>\n",
       "      <th>Recipient</th>\n",
       "      <th>Tender Type ID</th>\n",
       "      <th>Tender Type Description</th>\n",
       "      <th>Record Type ID</th>\n",
       "      <th>Record Type Description</th>\n",
       "      <th>Source Description</th>\n",
       "      <th>Datetime</th>\n",
       "      <th>UUID</th>\n",
       "    </tr>\n",
       "  </thead>\n",
       "  <tbody>\n",
       "    <tr>\n",
       "      <th>0</th>\n",
       "      <td>3/16/2010</td>\n",
       "      <td>ADAMSON, PAUL</td>\n",
       "      <td>17 LANDGRENE ST</td>\n",
       "      <td>SQUANTUM</td>\n",
       "      <td>MA</td>\n",
       "      <td>02171-1307</td>\n",
       "      <td>REAL ESTATE DEVELOPER</td>\n",
       "      <td>SELF EMPLOYED</td>\n",
       "      <td>NaN</td>\n",
       "      <td>250.0</td>\n",
       "      <td>12892</td>\n",
       "      <td>Flaherty Jr., Michael F.</td>\n",
       "      <td>1</td>\n",
       "      <td>Check</td>\n",
       "      <td>201</td>\n",
       "      <td>Individual</td>\n",
       "      <td>3/16/10 Deposit Report</td>\n",
       "      <td>2010-03-16</td>\n",
       "      <td>45588528-6600-592a-85ce-1139efb5452e</td>\n",
       "    </tr>\n",
       "    <tr>\n",
       "      <th>1</th>\n",
       "      <td>3/16/2010</td>\n",
       "      <td>BELMONT, NANCY</td>\n",
       "      <td>294 ELMWOOD AVE</td>\n",
       "      <td>WOLLASTON</td>\n",
       "      <td>MA</td>\n",
       "      <td>02170</td>\n",
       "      <td>NaN</td>\n",
       "      <td>NaN</td>\n",
       "      <td>NaN</td>\n",
       "      <td>50.0</td>\n",
       "      <td>12892</td>\n",
       "      <td>Flaherty Jr., Michael F.</td>\n",
       "      <td>1</td>\n",
       "      <td>Check</td>\n",
       "      <td>201</td>\n",
       "      <td>Individual</td>\n",
       "      <td>3/16/10 Deposit Report</td>\n",
       "      <td>2010-03-16</td>\n",
       "      <td>9d02198b-1339-533a-9640-83d6f70ef358</td>\n",
       "    </tr>\n",
       "    <tr>\n",
       "      <th>2</th>\n",
       "      <td>3/16/2010</td>\n",
       "      <td>BELMONT, WINIFRED</td>\n",
       "      <td>294 ELMWOOD AVE</td>\n",
       "      <td>WOLLASTON</td>\n",
       "      <td>MA</td>\n",
       "      <td>02170</td>\n",
       "      <td>NaN</td>\n",
       "      <td>NaN</td>\n",
       "      <td>NaN</td>\n",
       "      <td>50.0</td>\n",
       "      <td>12892</td>\n",
       "      <td>Flaherty Jr., Michael F.</td>\n",
       "      <td>1</td>\n",
       "      <td>Check</td>\n",
       "      <td>201</td>\n",
       "      <td>Individual</td>\n",
       "      <td>3/16/10 Deposit Report</td>\n",
       "      <td>2010-03-16</td>\n",
       "      <td>65d0339d-a861-5e26-be7f-db352411778a</td>\n",
       "    </tr>\n",
       "    <tr>\n",
       "      <th>3</th>\n",
       "      <td>3/16/2010</td>\n",
       "      <td>BERNINGER, MARY</td>\n",
       "      <td>156 SAINT ANDREW RD</td>\n",
       "      <td>BOSTON</td>\n",
       "      <td>MA</td>\n",
       "      <td>021281253</td>\n",
       "      <td>NaN</td>\n",
       "      <td>NaN</td>\n",
       "      <td>NaN</td>\n",
       "      <td>25.0</td>\n",
       "      <td>12892</td>\n",
       "      <td>Flaherty Jr., Michael F.</td>\n",
       "      <td>1</td>\n",
       "      <td>Check</td>\n",
       "      <td>201</td>\n",
       "      <td>Individual</td>\n",
       "      <td>3/16/10 Deposit Report</td>\n",
       "      <td>2010-03-16</td>\n",
       "      <td>561dfe74-3b45-51c8-9272-265c0cba8b14</td>\n",
       "    </tr>\n",
       "    <tr>\n",
       "      <th>4</th>\n",
       "      <td>3/16/2010</td>\n",
       "      <td>BOYLE, ANNA</td>\n",
       "      <td>437 E 5TH ST</td>\n",
       "      <td>BOSTON</td>\n",
       "      <td>MA</td>\n",
       "      <td>021273044</td>\n",
       "      <td>NaN</td>\n",
       "      <td>NaN</td>\n",
       "      <td>NaN</td>\n",
       "      <td>25.0</td>\n",
       "      <td>12892</td>\n",
       "      <td>Flaherty Jr., Michael F.</td>\n",
       "      <td>1</td>\n",
       "      <td>Check</td>\n",
       "      <td>201</td>\n",
       "      <td>Individual</td>\n",
       "      <td>3/16/10 Deposit Report</td>\n",
       "      <td>2010-03-16</td>\n",
       "      <td>98fff281-960f-51cf-be82-53a5c5b68da3</td>\n",
       "    </tr>\n",
       "  </tbody>\n",
       "</table>\n",
       "</div>"
      ],
      "text/plain": [
       "        Date        Contributor              Address       City State  \\\n",
       "0  3/16/2010      ADAMSON, PAUL      17 LANDGRENE ST   SQUANTUM    MA   \n",
       "1  3/16/2010     BELMONT, NANCY      294 ELMWOOD AVE  WOLLASTON    MA   \n",
       "2  3/16/2010  BELMONT, WINIFRED      294 ELMWOOD AVE  WOLLASTON    MA   \n",
       "3  3/16/2010    BERNINGER, MARY  156 SAINT ANDREW RD     BOSTON    MA   \n",
       "4  3/16/2010        BOYLE, ANNA         437 E 5TH ST     BOSTON    MA   \n",
       "\n",
       "          Zip             Occupation       Employer Principal Officer  Amount  \\\n",
       "0  02171-1307  REAL ESTATE DEVELOPER  SELF EMPLOYED               NaN   250.0   \n",
       "1       02170                    NaN            NaN               NaN    50.0   \n",
       "2       02170                    NaN            NaN               NaN    50.0   \n",
       "3   021281253                    NaN            NaN               NaN    25.0   \n",
       "4   021273044                    NaN            NaN               NaN    25.0   \n",
       "\n",
       "   CPF ID                 Recipient  Tender Type ID Tender Type Description  \\\n",
       "0   12892  Flaherty Jr., Michael F.               1                   Check   \n",
       "1   12892  Flaherty Jr., Michael F.               1                   Check   \n",
       "2   12892  Flaherty Jr., Michael F.               1                   Check   \n",
       "3   12892  Flaherty Jr., Michael F.               1                   Check   \n",
       "4   12892  Flaherty Jr., Michael F.               1                   Check   \n",
       "\n",
       "   Record Type ID Record Type Description      Source Description    Datetime  \\\n",
       "0             201              Individual  3/16/10 Deposit Report  2010-03-16   \n",
       "1             201              Individual  3/16/10 Deposit Report  2010-03-16   \n",
       "2             201              Individual  3/16/10 Deposit Report  2010-03-16   \n",
       "3             201              Individual  3/16/10 Deposit Report  2010-03-16   \n",
       "4             201              Individual  3/16/10 Deposit Report  2010-03-16   \n",
       "\n",
       "                                   UUID  \n",
       "0  45588528-6600-592a-85ce-1139efb5452e  \n",
       "1  9d02198b-1339-533a-9640-83d6f70ef358  \n",
       "2  65d0339d-a861-5e26-be7f-db352411778a  \n",
       "3  561dfe74-3b45-51c8-9272-265c0cba8b14  \n",
       "4  98fff281-960f-51cf-be82-53a5c5b68da3  "
      ]
     },
     "execution_count": 27,
     "metadata": {},
     "output_type": "execute_result"
    }
   ],
   "source": [
    " import pandas as pd\n",
    "\n",
    "# Provide the file path\n",
    "file_path = 'Active_CC_Contributions.csv'\n",
    "\n",
    "df = pd.read_csv(file_path)\n",
    "df.head()\n"
   ]
  },
  {
   "cell_type": "markdown",
   "id": "f1dce87a",
   "metadata": {},
   "source": [
    "#### Finding the top 20 Contributors"
   ]
  },
  {
   "cell_type": "code",
   "execution_count": 28,
   "id": "03647c62",
   "metadata": {},
   "outputs": [
    {
     "name": "stdout",
     "output_type": "stream",
     "text": [
      "                                             Contributor     Amount\n",
      "143                       Aggregated Unitemized Receipts  147763.85\n",
      "12135                                    Murray, Georgia   25500.00\n",
      "9572                                        Lee, Barbara   22350.00\n",
      "1071                                     Benson, Deborah   21700.00\n",
      "54                                         Aberly, Naomi   20550.00\n",
      "5820                               Flynn, Edward Michael   20000.00\n",
      "1878                                      Burnes, Nonnie   12737.00\n",
      "1462                           Boston Teachers Union PAC   12500.00\n",
      "7174                                      Hanley, Joseph   12050.00\n",
      "1448    Boston Police Patrolmens Assoc. Pol Action Comm.   12000.00\n",
      "9737                                       Leung, Edward   11250.00\n",
      "10202  MA & Northern NE Laborers' District Council Po...   11250.00\n",
      "10549                                      Maloney, Mark   11000.00\n",
      "9753                                    Levenson, Norman   11000.00\n",
      "530                                      Aulenback, Eric    9500.00\n",
      "16510                                    Torres, Gregory    9500.00\n",
      "2911                                        Choo, Arthur    9400.00\n",
      "117                                        Adamson, Paul    9250.00\n",
      "14460                                      Ross, Michael    9218.02\n",
      "1347                                        Boland, Beth    9050.00\n"
     ]
    }
   ],
   "source": [
    "# Group by the \"Contributor\" column and calculate the sum of the \"Amount\" column\n",
    "contributor_totals = df.groupby(\"Contributor\")[\"Amount\"].sum().reset_index()\n",
    "contributor_totals = contributor_totals.sort_values(by=\"Amount\", ascending=False)\n",
    "\n",
    "# Print the top 20 contributors\n",
    "top_20_contributors = contributor_totals.head(20)\n",
    "print(top_20_contributors)\n"
   ]
  },
  {
   "cell_type": "markdown",
   "id": "d1b8f204",
   "metadata": {},
   "source": [
    "#### The total amount each recipient recieved"
   ]
  },
  {
   "cell_type": "code",
   "execution_count": 29,
   "id": "fa015554",
   "metadata": {},
   "outputs": [
    {
     "name": "stdout",
     "output_type": "stream",
     "text": [
      "                   Recipient      Amount\n",
      "7   Flaherty Jr., Michael F.  1808742.76\n",
      "14              Wu, Michelle  1486452.16\n",
      "4       Campbell, Andrea Joy   897720.68\n",
      "13      O'Malley, Matthew J.   692661.37\n",
      "9      Flynn, Edward Michael   686292.89\n",
      "1               Baker, Frank   684131.47\n",
      "5             Edwards, Lydia   554057.77\n",
      "6    Essaibi George, Annissa   367026.41\n",
      "10           George, Annissa   296705.87\n",
      "11                Janey, Kim   249827.23\n",
      "2   Bok, Priscilla MacKenzie   205397.47\n",
      "12           Mejia, Julia M.   152378.26\n",
      "0         Arroyo, Ricardo N.   138424.77\n",
      "3      Breadon, Elizabeth A.    36725.10\n",
      "8       Flaherty, Michael F.    10102.07\n"
     ]
    }
   ],
   "source": [
    "# Sort the DataFrame by the total amount in descending order\n",
    "recipient_totals = df.groupby(\"Recipient\")[\"Amount\"].sum().reset_index()\n",
    "recipient_totals = recipient_totals.sort_values(by=\"Amount\", ascending=False)\n",
    "\n",
    "print(recipient_totals)"
   ]
  },
  {
   "cell_type": "markdown",
   "id": "8b7c41fa",
   "metadata": {},
   "source": [
    "#### Getting the top contributors to Flaherty Jr., Michael F."
   ]
  },
  {
   "cell_type": "code",
   "execution_count": 30,
   "id": "11ee8c1d",
   "metadata": {},
   "outputs": [
    {
     "name": "stdout",
     "output_type": "stream",
     "text": [
      "                   Contributor  Amount\n",
      "376      Brooks Jr., William E  5000.0\n",
      "1555       Fitzpatrick, Neil F  4500.0\n",
      "2998  McLaughlin Jr., Brian J.  4250.0\n",
      "2352          Keliher, James E  4250.0\n",
      "3707          Raftery, David L  3700.0\n"
     ]
    }
   ],
   "source": [
    "\n",
    "# Filter the DataFrame for contributions to the recipient 'Flaherty Jr., Michael F.'\n",
    "recipient_name = 'Flaherty Jr., Michael F.'\n",
    "recipient_contributions = df[df['Recipient'] == recipient_name]\n",
    "\n",
    "# Group by the \"Contributor\" column and calculate the sum of the \"Amount\" column\n",
    "contributor_totals = recipient_contributions.groupby(\"Contributor\")[\"Amount\"].sum().reset_index()\n",
    "contributor_totals = contributor_totals.sort_values(by=\"Amount\", ascending=False)\n",
    "\n",
    "# Print the top 5 contributors and their corresponding amounts\n",
    "top_5_contributors = contributor_totals.head(5)\n",
    "print(top_5_contributors)\n"
   ]
  },
  {
   "cell_type": "markdown",
   "id": "a0beb566",
   "metadata": {},
   "source": [
    "#### Contributions made to Flaherty Jr., Michael F. grouped by year"
   ]
  },
  {
   "cell_type": "code",
   "execution_count": 31,
   "id": "2378c522",
   "metadata": {},
   "outputs": [
    {
     "name": "stdout",
     "output_type": "stream",
     "text": [
      "   Year  Contribution Count\n",
      "0  2013                1264\n",
      "1  2015                1055\n",
      "2  2019                 994\n",
      "3  2011                 950\n",
      "4  2017                 938\n",
      "5  2018                 614\n",
      "6  2014                 612\n",
      "7  2016                 526\n",
      "8  2010                 168\n"
     ]
    },
    {
     "data": {
      "image/png": "[encoded data removed]",
      "text/plain": [
       "<Figure size 1000x600 with 1 Axes>"
      ]
     },
     "metadata": {},
     "output_type": "display_data"
    }
   ],
   "source": [
    "\n",
    "# Convert the 'Datetime' column to a datetime data type\n",
    "df['Datetime'] = pd.to_datetime(df['Datetime'])\n",
    "# Create a new 'year' column\n",
    "df['year'] = df['Datetime'].dt.year\n",
    "\n",
    "# Filter the DataFrame for contributions to the recipient 'Flaherty Jr., Michael F.'\n",
    "recipient_name = 'Flaherty Jr., Michael F.'\n",
    "recipient_contributions = df[df['Recipient'] == recipient_name]\n",
    "\n",
    "# Group by the 'year' column and calculate the sum of the 'Amount' column\n",
    "yearly_totals = recipient_contributions.groupby('year')['Amount'].sum().reset_index()\n",
    "\n",
    "# Print a line chart of the amount received each year\n",
    "plt.figure(figsize=(10, 6))\n",
    "plt.plot(yearly_totals['year'], yearly_totals['Amount'], marker='o', linestyle='-')\n",
    "plt.title(f'Year-wise Contributions to {recipient_name}')\n",
    "plt.xlabel('Year')\n",
    "plt.ylabel('Amount Received')\n",
    "plt.grid(True)\n",
    "plt.xticks(yearly_totals['year'])\n",
    "\n",
    "# Count and print the number of contributions received that year\n",
    "yearly_counts = recipient_contributions['year'].value_counts().reset_index()\n",
    "yearly_counts.columns = ['Year', 'Contribution Count']\n",
    "print(yearly_counts)\n",
    "\n",
    "plt.show()\n"
   ]
  },
  {
   "cell_type": "markdown",
   "id": "7a838d4d",
   "metadata": {},
   "source": [
    "#### Finding the City from which Flaherty Jr., Michael F. recieved most of his contributions"
   ]
  },
  {
   "cell_type": "code",
   "execution_count": 32,
   "id": "5ccc7930",
   "metadata": {},
   "outputs": [
    {
     "name": "stdout",
     "output_type": "stream",
     "text": [
      "           City  Contribution Count\n",
      "0        boston                2952\n",
      "1  south boston                 419\n",
      "2    dorchester                 231\n",
      "3        quincy                 210\n",
      "4        milton                 207\n",
      "5     braintree                 147\n",
      "6       hingham                 115\n",
      "7  west roxbury                 105\n",
      "8   east boston                  89\n",
      "9        newton                  87\n"
     ]
    },
    {
     "name": "stderr",
     "output_type": "stream",
     "text": [
      "/var/folders/ry/qqr3x9d55rb8tlz6m6vx0jmc0000gn/T/ipykernel_28183/2089395051.py:4: SettingWithCopyWarning: \n",
      "A value is trying to be set on a copy of a slice from a DataFrame.\n",
      "Try using .loc[row_indexer,col_indexer] = value instead\n",
      "\n",
      "See the caveats in the documentation: https://pandas.pydata.org/pandas-docs/stable/user_guide/indexing.html#returning-a-view-versus-a-copy\n",
      "  recipient_contributions['City'] = recipient_contributions['City'].str.lower()\n"
     ]
    }
   ],
   "source": [
    "\n",
    "# Filter the DataFrame for contributions to the recipient 'Flaherty Jr., Michael F.'\n",
    "recipient_name = 'Flaherty Jr., Michael F.'\n",
    "recipient_contributions = df[df['Recipient'] == recipient_name]\n",
    "recipient_contributions['City'] = recipient_contributions['City'].str.lower()\n",
    "\n",
    "# Group by the 'City' column and count the number of contributions\n",
    "city_counts = recipient_contributions['City'].value_counts().reset_index()\n",
    "city_counts.columns = ['City', 'Contribution Count']\n",
    "\n",
    "# Print the top 10 cities\n",
    "top_10_cities = city_counts.head(10)\n",
    "print(top_10_cities)\n"
   ]
  },
  {
   "cell_type": "markdown",
   "id": "e32ac281",
   "metadata": {},
   "source": [
    "## Exploratory data analysis of Active_Police_CC_Contributions.csv"
   ]
  },
  {
   "cell_type": "code",
   "execution_count": 33,
   "id": "4858213c",
   "metadata": {},
   "outputs": [
    {
     "data": {
      "text/html": [
       "<div>\n",
       "<style scoped>\n",
       "    .dataframe tbody tr th:only-of-type {\n",
       "        vertical-align: middle;\n",
       "    }\n",
       "\n",
       "    .dataframe tbody tr th {\n",
       "        vertical-align: top;\n",
       "    }\n",
       "\n",
       "    .dataframe thead th {\n",
       "        text-align: right;\n",
       "    }\n",
       "</style>\n",
       "<table border=\"1\" class=\"dataframe\">\n",
       "  <thead>\n",
       "    <tr style=\"text-align: right;\">\n",
       "      <th></th>\n",
       "      <th>Address</th>\n",
       "      <th>Amount</th>\n",
       "      <th>CPF ID</th>\n",
       "      <th>City</th>\n",
       "      <th>Contributor</th>\n",
       "      <th>Date</th>\n",
       "      <th>Datetime</th>\n",
       "      <th>Employer</th>\n",
       "      <th>Occupation</th>\n",
       "      <th>Principal Officer</th>\n",
       "      <th>Recipient</th>\n",
       "      <th>Record Type Description</th>\n",
       "      <th>Record Type ID</th>\n",
       "      <th>Source Description</th>\n",
       "      <th>State</th>\n",
       "      <th>Tender Type Description</th>\n",
       "      <th>Tender Type ID</th>\n",
       "      <th>UUID</th>\n",
       "      <th>Zip</th>\n",
       "    </tr>\n",
       "  </thead>\n",
       "  <tbody>\n",
       "    <tr>\n",
       "      <th>0</th>\n",
       "      <td>19 BOUTWELL ST 2</td>\n",
       "      <td>100.0</td>\n",
       "      <td>12892</td>\n",
       "      <td>BOSTON</td>\n",
       "      <td>STUDLEY, JOHN</td>\n",
       "      <td>5/28/2010</td>\n",
       "      <td>2010-05-28</td>\n",
       "      <td>CITY OF BOSTON</td>\n",
       "      <td>POLICE OFFICER</td>\n",
       "      <td>NaN</td>\n",
       "      <td>Flaherty Jr., Michael F.</td>\n",
       "      <td>Individual</td>\n",
       "      <td>201</td>\n",
       "      <td>5/28/10 Deposit Report</td>\n",
       "      <td>MA</td>\n",
       "      <td>Check</td>\n",
       "      <td>1</td>\n",
       "      <td>77f5362d-d687-54ee-8380-ea1d484a8e31</td>\n",
       "      <td>021222513</td>\n",
       "    </tr>\n",
       "    <tr>\n",
       "      <th>1</th>\n",
       "      <td>19 BOUTWELL ST 2</td>\n",
       "      <td>500.0</td>\n",
       "      <td>12892</td>\n",
       "      <td>BOSTON</td>\n",
       "      <td>STUDLEY, JOHN M</td>\n",
       "      <td>5/27/2011</td>\n",
       "      <td>2011-05-27</td>\n",
       "      <td>CITY OF BOSTON</td>\n",
       "      <td>POLICE OFFICER</td>\n",
       "      <td>NaN</td>\n",
       "      <td>Flaherty Jr., Michael F.</td>\n",
       "      <td>Individual</td>\n",
       "      <td>201</td>\n",
       "      <td>5/27/11 Deposit Report</td>\n",
       "      <td>MA</td>\n",
       "      <td>Check</td>\n",
       "      <td>1</td>\n",
       "      <td>69c16ebd-a735-54a7-880a-d84fda023b64</td>\n",
       "      <td>021222513</td>\n",
       "    </tr>\n",
       "    <tr>\n",
       "      <th>2</th>\n",
       "      <td>431 E 6TH ST</td>\n",
       "      <td>100.0</td>\n",
       "      <td>12892</td>\n",
       "      <td>BOSTON</td>\n",
       "      <td>LOAN, JR, JOHN FRANCIS</td>\n",
       "      <td>8/3/2011</td>\n",
       "      <td>2011-08-03</td>\n",
       "      <td>CITY OF BOSTON</td>\n",
       "      <td>POLICE OFFICER</td>\n",
       "      <td>NaN</td>\n",
       "      <td>Flaherty Jr., Michael F.</td>\n",
       "      <td>Individual</td>\n",
       "      <td>201</td>\n",
       "      <td>8/3/11 Deposit Report</td>\n",
       "      <td>MA</td>\n",
       "      <td>Check</td>\n",
       "      <td>1</td>\n",
       "      <td>87ba4053-f4e3-5f41-812c-1eca7dd8aa38</td>\n",
       "      <td>021273056</td>\n",
       "    </tr>\n",
       "    <tr>\n",
       "      <th>3</th>\n",
       "      <td>664 EAST 7TH STREET 3</td>\n",
       "      <td>500.0</td>\n",
       "      <td>12892</td>\n",
       "      <td>BOSTON</td>\n",
       "      <td>PAROLIN, MAUREEN E</td>\n",
       "      <td>8/24/2011</td>\n",
       "      <td>2011-08-24</td>\n",
       "      <td>CITY OF BOSTON</td>\n",
       "      <td>POLICE OFFICER</td>\n",
       "      <td>NaN</td>\n",
       "      <td>Flaherty Jr., Michael F.</td>\n",
       "      <td>Individual</td>\n",
       "      <td>201</td>\n",
       "      <td>8/24/11 Deposit Report</td>\n",
       "      <td>MA</td>\n",
       "      <td>Check</td>\n",
       "      <td>1</td>\n",
       "      <td>818cc687-7d91-5e66-bda6-fc356104b896</td>\n",
       "      <td>02127</td>\n",
       "    </tr>\n",
       "    <tr>\n",
       "      <th>4</th>\n",
       "      <td>48 COOLIDGE RD</td>\n",
       "      <td>200.0</td>\n",
       "      <td>12892</td>\n",
       "      <td>MILTON</td>\n",
       "      <td>WALL, JR, LEONARD F</td>\n",
       "      <td>9/23/2011</td>\n",
       "      <td>2011-09-23</td>\n",
       "      <td>CITY OF BOSTON</td>\n",
       "      <td>POLICE OFFICER</td>\n",
       "      <td>NaN</td>\n",
       "      <td>Flaherty Jr., Michael F.</td>\n",
       "      <td>Individual</td>\n",
       "      <td>201</td>\n",
       "      <td>9/23/11 Deposit Report</td>\n",
       "      <td>MA</td>\n",
       "      <td>Check</td>\n",
       "      <td>1</td>\n",
       "      <td>e44b48b6-7489-5bbf-aad6-7ae5ae1c283c</td>\n",
       "      <td>021863935</td>\n",
       "    </tr>\n",
       "  </tbody>\n",
       "</table>\n",
       "</div>"
      ],
      "text/plain": [
       "                 Address  Amount  CPF ID    City             Contributor  \\\n",
       "0       19 BOUTWELL ST 2   100.0   12892  BOSTON           STUDLEY, JOHN   \n",
       "1       19 BOUTWELL ST 2   500.0   12892  BOSTON         STUDLEY, JOHN M   \n",
       "2           431 E 6TH ST   100.0   12892  BOSTON  LOAN, JR, JOHN FRANCIS   \n",
       "3  664 EAST 7TH STREET 3   500.0   12892  BOSTON      PAROLIN, MAUREEN E   \n",
       "4         48 COOLIDGE RD   200.0   12892  MILTON     WALL, JR, LEONARD F   \n",
       "\n",
       "        Date    Datetime        Employer      Occupation  Principal Officer  \\\n",
       "0  5/28/2010  2010-05-28  CITY OF BOSTON  POLICE OFFICER                NaN   \n",
       "1  5/27/2011  2011-05-27  CITY OF BOSTON  POLICE OFFICER                NaN   \n",
       "2   8/3/2011  2011-08-03  CITY OF BOSTON  POLICE OFFICER                NaN   \n",
       "3  8/24/2011  2011-08-24  CITY OF BOSTON  POLICE OFFICER                NaN   \n",
       "4  9/23/2011  2011-09-23  CITY OF BOSTON  POLICE OFFICER                NaN   \n",
       "\n",
       "                  Recipient Record Type Description  Record Type ID  \\\n",
       "0  Flaherty Jr., Michael F.              Individual             201   \n",
       "1  Flaherty Jr., Michael F.              Individual             201   \n",
       "2  Flaherty Jr., Michael F.              Individual             201   \n",
       "3  Flaherty Jr., Michael F.              Individual             201   \n",
       "4  Flaherty Jr., Michael F.              Individual             201   \n",
       "\n",
       "       Source Description State Tender Type Description  Tender Type ID  \\\n",
       "0  5/28/10 Deposit Report    MA                   Check               1   \n",
       "1  5/27/11 Deposit Report    MA                   Check               1   \n",
       "2   8/3/11 Deposit Report    MA                   Check               1   \n",
       "3  8/24/11 Deposit Report    MA                   Check               1   \n",
       "4  9/23/11 Deposit Report    MA                   Check               1   \n",
       "\n",
       "                                   UUID        Zip  \n",
       "0  77f5362d-d687-54ee-8380-ea1d484a8e31  021222513  \n",
       "1  69c16ebd-a735-54a7-880a-d84fda023b64  021222513  \n",
       "2  87ba4053-f4e3-5f41-812c-1eca7dd8aa38  021273056  \n",
       "3  818cc687-7d91-5e66-bda6-fc356104b896      02127  \n",
       "4  e44b48b6-7489-5bbf-aad6-7ae5ae1c283c  021863935  "
      ]
     },
     "execution_count": 33,
     "metadata": {},
     "output_type": "execute_result"
    }
   ],
   "source": [
    " import pandas as pd\n",
    "\n",
    "# Provide the file path\n",
    "file_path = 'Active_Police_CC_Contributions.csv'\n",
    "\n",
    "df = pd.read_csv(file_path)\n",
    "df.head()\n"
   ]
  },
  {
   "cell_type": "markdown",
   "id": "8d8230a2",
   "metadata": {},
   "source": [
    "#### Finding the top 20 Police contributors"
   ]
  },
  {
   "cell_type": "code",
   "execution_count": 35,
   "id": "b0fa46b3",
   "metadata": {},
   "outputs": [
    {
     "name": "stdout",
     "output_type": "stream",
     "text": [
      "                Contributor  Amount\n",
      "4             Barrett, Dana  6000.0\n",
      "73        Driscoll, Richard  2950.0\n",
      "190         Medina, Richard  2750.0\n",
      "259         Tompkins, Steve  2625.0\n",
      "118          Hosein, Haseeb  2500.0\n",
      "260        Tompkins, Steven  2200.0\n",
      "23        Brooks, Martin J.  2050.0\n",
      "0            Amorello, Mark  1850.0\n",
      "200     Murphy, Dennis Jude  1800.0\n",
      "95    Giardina Jr., James V  1700.0\n",
      "66             Dineen, John  1650.0\n",
      "104            Grice, Elton  1500.0\n",
      "37            Coakley, Neva  1500.0\n",
      "26        Burke, Terrence S  1499.0\n",
      "22           Brooks, Martin  1386.0\n",
      "97    Giardina Sr., James V  1350.0\n",
      "169          Mahoney, Brian  1350.0\n",
      "184        McSorley, Joseph  1200.0\n",
      "204            Noto, Thomas  1150.0\n",
      "160  Loan Jr., John Francis  1125.0\n"
     ]
    }
   ],
   "source": [
    "# Group by the \"Contributor\" column and calculate the sum of the \"Amount\" column\n",
    "contributor_totals = df.groupby(\"Contributor\")[\"Amount\"].sum().reset_index()\n",
    "contributor_totals = contributor_totals.sort_values(by=\"Amount\", ascending=False)\n",
    "\n",
    "# Print the top 20 contributors\n",
    "top_20_contributors = contributor_totals.head(20)\n",
    "print(top_20_contributors)\n"
   ]
  },
  {
   "cell_type": "markdown",
   "id": "a0a39b94",
   "metadata": {},
   "source": [
    "#### The total amount each recipient recieved from the Police"
   ]
  },
  {
   "cell_type": "code",
   "execution_count": 38,
   "id": "cca89aa6",
   "metadata": {},
   "outputs": [
    {
     "name": "stdout",
     "output_type": "stream",
     "text": [
      "                   Recipient    Amount\n",
      "5   Flaherty Jr., Michael F.  38700.00\n",
      "4    Essaibi George, Annissa  26700.00\n",
      "1               Baker, Frank  10824.00\n",
      "9       O'Malley, Matthew J.   9844.45\n",
      "6      Flynn, Edward Michael   6750.00\n",
      "7                 Janey, Kim   6100.00\n",
      "2       Campbell, Andrea Joy   5400.00\n",
      "10              Wu, Michelle   3350.00\n",
      "8            Mejia, Julia M.   3000.00\n",
      "3             Edwards, Lydia   2858.00\n",
      "0         Arroyo, Ricardo N.    750.00\n"
     ]
    }
   ],
   "source": [
    "# Sort the DataFrame by the total amount in descending order\n",
    "recipient_totals = df.groupby(\"Recipient\")[\"Amount\"].sum().reset_index()\n",
    "recipient_totals = recipient_totals.sort_values(by=\"Amount\", ascending=False)\n",
    "\n",
    "print(recipient_totals)"
   ]
  },
  {
   "cell_type": "markdown",
   "id": "ae60e6ee",
   "metadata": {},
   "source": [
    "#### Getting the top Police contributors to Flaherty Jr., Michael F."
   ]
  },
  {
   "cell_type": "code",
   "execution_count": 37,
   "id": "b1fa1a40",
   "metadata": {},
   "outputs": [
    {
     "name": "stdout",
     "output_type": "stream",
     "text": [
      "                Contributor  Amount\n",
      "104     Murphy, Dennis Jude  1800.0\n",
      "46    Giardina Jr., James V  1700.0\n",
      "48    Giardina Sr., James V  1350.0\n",
      "78   Loan Jr., John Francis  1125.0\n",
      "102    Murphy , Dennis Jude  1000.0\n"
     ]
    }
   ],
   "source": [
    "\n",
    "# Filter the DataFrame for contributions to the recipient 'Flaherty Jr., Michael F.'\n",
    "recipient_name = 'Flaherty Jr., Michael F.'\n",
    "recipient_contributions = df[df['Recipient'] == recipient_name]\n",
    "\n",
    "# Group by the \"Contributor\" column and calculate the sum of the \"Amount\" column\n",
    "contributor_totals = recipient_contributions.groupby(\"Contributor\")[\"Amount\"].sum().reset_index()\n",
    "contributor_totals = contributor_totals.sort_values(by=\"Amount\", ascending=False)\n",
    "\n",
    "# Print the top 5 contributors and their corresponding amounts\n",
    "top_5_contributors = contributor_totals.head(5)\n",
    "print(top_5_contributors)\n"
   ]
  },
  {
   "cell_type": "markdown",
   "id": "270ca1cb",
   "metadata": {},
   "source": [
    "#### Contributions made by the Police to Flaherty Jr., Michael F. grouped by year"
   ]
  },
  {
   "cell_type": "code",
   "execution_count": 39,
   "id": "23abd520",
   "metadata": {},
   "outputs": [
    {
     "name": "stdout",
     "output_type": "stream",
     "text": [
      "   Year  Contribution Count\n",
      "0  2013                  54\n",
      "1  2017                  48\n",
      "2  2015                  34\n",
      "3  2014                  23\n",
      "4  2019                  23\n",
      "5  2016                  21\n",
      "6  2018                  21\n",
      "7  2011                  10\n",
      "8  2010                   1\n"
     ]
    },
    {
     "data": {
      "image/png": "[encoded data removed]",
      "text/plain": [
       "<Figure size 1000x600 with 1 Axes>"
      ]
     },
     "metadata": {},
     "output_type": "display_data"
    }
   ],
   "source": [
    "\n",
    "# Convert the 'Datetime' column to a datetime data type\n",
    "df['Datetime'] = pd.to_datetime(df['Datetime'])\n",
    "# Create a new 'year' column\n",
    "df['year'] = df['Datetime'].dt.year\n",
    "\n",
    "# Filter the DataFrame for contributions to the recipient 'Flaherty Jr., Michael F.'\n",
    "recipient_name = 'Flaherty Jr., Michael F.'\n",
    "recipient_contributions = df[df['Recipient'] == recipient_name]\n",
    "\n",
    "# Group by the 'year' column and calculate the sum of the 'Amount' column\n",
    "yearly_totals = recipient_contributions.groupby('year')['Amount'].sum().reset_index()\n",
    "\n",
    "# Print a line chart of the amount received each year\n",
    "plt.figure(figsize=(10, 6))\n",
    "plt.plot(yearly_totals['year'], yearly_totals['Amount'], marker='o', linestyle='-')\n",
    "plt.title(f'Year-wise Contributions to {recipient_name}')\n",
    "plt.xlabel('Year')\n",
    "plt.ylabel('Amount Received')\n",
    "plt.grid(True)\n",
    "plt.xticks(yearly_totals['year'])\n",
    "\n",
    "# Count and print the number of contributions received that year\n",
    "yearly_counts = recipient_contributions['year'].value_counts().reset_index()\n",
    "yearly_counts.columns = ['Year', 'Contribution Count']\n",
    "print(yearly_counts)\n",
    "\n",
    "plt.show()\n"
   ]
  },
  {
   "cell_type": "markdown",
   "id": "96ba0d9c",
   "metadata": {},
   "source": [
    "#### Finding the City from which Flaherty Jr., Michael F. recieved most of his Police contributions"
   ]
  },
  {
   "cell_type": "code",
   "execution_count": 40,
   "id": "08c3a67d",
   "metadata": {},
   "outputs": [
    {
     "name": "stdout",
     "output_type": "stream",
     "text": [
      "           City  Contribution Count\n",
      "0        boston                 106\n",
      "1    dorchester                  24\n",
      "2       hanover                  13\n",
      "3  south boston                  12\n",
      "4  west roxbury                  11\n",
      "5       peabody                  11\n",
      "6        quincy                  10\n",
      "7   east boston                   5\n",
      "8    marshfield                   5\n",
      "9     braintree                   4\n"
     ]
    },
    {
     "name": "stderr",
     "output_type": "stream",
     "text": [
      "/var/folders/ry/qqr3x9d55rb8tlz6m6vx0jmc0000gn/T/ipykernel_28183/2089395051.py:4: SettingWithCopyWarning: \n",
      "A value is trying to be set on a copy of a slice from a DataFrame.\n",
      "Try using .loc[row_indexer,col_indexer] = value instead\n",
      "\n",
      "See the caveats in the documentation: https://pandas.pydata.org/pandas-docs/stable/user_guide/indexing.html#returning-a-view-versus-a-copy\n",
      "  recipient_contributions['City'] = recipient_contributions['City'].str.lower()\n"
     ]
    }
   ],
   "source": [
    "\n",
    "# Filter the DataFrame for contributions to the recipient 'Flaherty Jr., Michael F.'\n",
    "recipient_name = 'Flaherty Jr., Michael F.'\n",
    "recipient_contributions = df[df['Recipient'] == recipient_name]\n",
    "recipient_contributions['City'] = recipient_contributions['City'].str.lower()\n",
    "\n",
    "# Group by the 'City' column and count the number of contributions\n",
    "city_counts = recipient_contributions['City'].value_counts().reset_index()\n",
    "city_counts.columns = ['City', 'Contribution Count']\n",
    "\n",
    "# Print the top 10 cities\n",
    "top_10_cities = city_counts.head(10)\n",
    "print(top_10_cities)\n"
   ]
  },
  {
   "cell_type": "code",
   "execution_count": null,
   "id": "e871b37a",
   "metadata": {},
   "outputs": [],
   "source": []
  }
 ],
 "metadata": {
  "kernelspec": {
   "display_name": "Python 3 (ipykernel)",
   "language": "python",
   "name": "python3"
  },
  "language_info": {
   "codemirror_mode": {
    "name": "ipython",
    "version": 3
   },
   "file_extension": ".py",
   "mimetype": "text/x-python",
   "name": "python",
   "nbconvert_exporter": "python",
   "pygments_lexer": "ipython3",
   "version": "3.10.9"
  }
 },
 "nbformat": 4,
 "nbformat_minor": 5
}
